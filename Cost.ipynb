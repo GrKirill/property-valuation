{
 "cells": [
  {
   "cell_type": "code",
   "execution_count": 375,
   "metadata": {},
   "outputs": [],
   "source": [
    "import numpy as np\n",
    "import pandas as pd\n",
    "import math\n",
    "import statsmodels.formula.api as smf\n",
    "import statsmodels.stats.api as sms\n",
    "import matplotlib.pyplot as plt\n",
    "from itertools import combinations\n",
    "import random as rn \n",
    "from statsmodels.graphics.regressionplots import plot_leverage_resid2, influence_plot\n",
    "import warnings\n",
    "warnings.filterwarnings('ignore')\n",
    "import matplotlib.pyplot as plt\n",
    "%matplotlib inline"
   ]
  },
  {
   "cell_type": "markdown",
   "metadata": {},
   "source": [
    "### Получаем датафрейм для работы "
   ]
  },
  {
   "cell_type": "code",
   "execution_count": 376,
   "metadata": {
    "collapsed": true
   },
   "outputs": [],
   "source": [
    "data = pd.read_csv('General_Table_3.csv', sep = ';',index_col=False)\n",
    "test = pd.read_csv('General_Table_4.csv', sep = ';',index_col=False)"
   ]
  },
  {
   "cell_type": "code",
   "execution_count": 377,
   "metadata": {},
   "outputs": [
    {
     "data": {
      "text/html": [
       "<div>\n",
       "<style>\n",
       "    .dataframe thead tr:only-child th {\n",
       "        text-align: right;\n",
       "    }\n",
       "\n",
       "    .dataframe thead th {\n",
       "        text-align: left;\n",
       "    }\n",
       "\n",
       "    .dataframe tbody tr th {\n",
       "        vertical-align: top;\n",
       "    }\n",
       "</style>\n",
       "<table border=\"1\" class=\"dataframe\">\n",
       "  <thead>\n",
       "    <tr style=\"text-align: right;\">\n",
       "      <th></th>\n",
       "      <th>Unnamed: 0</th>\n",
       "      <th>Object</th>\n",
       "      <th>Square</th>\n",
       "      <th>Place</th>\n",
       "      <th>Material</th>\n",
       "      <th>Finish</th>\n",
       "      <th>Otd_Vstr</th>\n",
       "      <th>Transport</th>\n",
       "      <th>Otopl</th>\n",
       "      <th>Nazn</th>\n",
       "    </tr>\n",
       "  </thead>\n",
       "  <tbody>\n",
       "    <tr>\n",
       "      <th>0</th>\n",
       "      <td>1</td>\n",
       "      <td>Object 1</td>\n",
       "      <td>494.5</td>\n",
       "      <td>3</td>\n",
       "      <td>1</td>\n",
       "      <td>2</td>\n",
       "      <td>1</td>\n",
       "      <td>5</td>\n",
       "      <td>1</td>\n",
       "      <td>3</td>\n",
       "    </tr>\n",
       "    <tr>\n",
       "      <th>1</th>\n",
       "      <td>2</td>\n",
       "      <td>Object 2</td>\n",
       "      <td>298.5</td>\n",
       "      <td>3</td>\n",
       "      <td>1</td>\n",
       "      <td>2</td>\n",
       "      <td>1</td>\n",
       "      <td>5</td>\n",
       "      <td>1</td>\n",
       "      <td>3</td>\n",
       "    </tr>\n",
       "    <tr>\n",
       "      <th>2</th>\n",
       "      <td>3</td>\n",
       "      <td>Object 3</td>\n",
       "      <td>8.0</td>\n",
       "      <td>3</td>\n",
       "      <td>1</td>\n",
       "      <td>2</td>\n",
       "      <td>1</td>\n",
       "      <td>5</td>\n",
       "      <td>1</td>\n",
       "      <td>1</td>\n",
       "    </tr>\n",
       "    <tr>\n",
       "      <th>3</th>\n",
       "      <td>4</td>\n",
       "      <td>Object 4</td>\n",
       "      <td>361.1</td>\n",
       "      <td>3</td>\n",
       "      <td>1</td>\n",
       "      <td>2</td>\n",
       "      <td>1</td>\n",
       "      <td>5</td>\n",
       "      <td>1</td>\n",
       "      <td>3</td>\n",
       "    </tr>\n",
       "    <tr>\n",
       "      <th>4</th>\n",
       "      <td>5</td>\n",
       "      <td>Object 5</td>\n",
       "      <td>1755.6</td>\n",
       "      <td>3</td>\n",
       "      <td>1</td>\n",
       "      <td>2</td>\n",
       "      <td>1</td>\n",
       "      <td>5</td>\n",
       "      <td>1</td>\n",
       "      <td>3</td>\n",
       "    </tr>\n",
       "    <tr>\n",
       "      <th>5</th>\n",
       "      <td>6</td>\n",
       "      <td>Object 6</td>\n",
       "      <td>316.4</td>\n",
       "      <td>3</td>\n",
       "      <td>1</td>\n",
       "      <td>2</td>\n",
       "      <td>1</td>\n",
       "      <td>5</td>\n",
       "      <td>1</td>\n",
       "      <td>3</td>\n",
       "    </tr>\n",
       "    <tr>\n",
       "      <th>6</th>\n",
       "      <td>7</td>\n",
       "      <td>Object 7</td>\n",
       "      <td>587.1</td>\n",
       "      <td>3</td>\n",
       "      <td>1</td>\n",
       "      <td>2</td>\n",
       "      <td>1</td>\n",
       "      <td>5</td>\n",
       "      <td>1</td>\n",
       "      <td>3</td>\n",
       "    </tr>\n",
       "    <tr>\n",
       "      <th>7</th>\n",
       "      <td>8</td>\n",
       "      <td>Object 8</td>\n",
       "      <td>4698.7</td>\n",
       "      <td>2</td>\n",
       "      <td>1</td>\n",
       "      <td>2</td>\n",
       "      <td>1</td>\n",
       "      <td>3</td>\n",
       "      <td>1</td>\n",
       "      <td>3</td>\n",
       "    </tr>\n",
       "  </tbody>\n",
       "</table>\n",
       "</div>"
      ],
      "text/plain": [
       "   Unnamed: 0    Object  Square  Place  Material  Finish  Otd_Vstr  Transport  \\\n",
       "0           1  Object 1   494.5      3         1       2         1          5   \n",
       "1           2  Object 2   298.5      3         1       2         1          5   \n",
       "2           3  Object 3     8.0      3         1       2         1          5   \n",
       "3           4  Object 4   361.1      3         1       2         1          5   \n",
       "4           5  Object 5  1755.6      3         1       2         1          5   \n",
       "5           6  Object 6   316.4      3         1       2         1          5   \n",
       "6           7  Object 7   587.1      3         1       2         1          5   \n",
       "7           8  Object 8  4698.7      2         1       2         1          3   \n",
       "\n",
       "   Otopl  Nazn  \n",
       "0      1     3  \n",
       "1      1     3  \n",
       "2      1     1  \n",
       "3      1     3  \n",
       "4      1     3  \n",
       "5      1     3  \n",
       "6      1     3  \n",
       "7      1     3  "
      ]
     },
     "execution_count": 377,
     "metadata": {},
     "output_type": "execute_result"
    }
   ],
   "source": [
    "#объекты, для которых нужно построить предсказательную модель\n",
    "test"
   ]
  },
  {
   "cell_type": "code",
   "execution_count": 378,
   "metadata": {
    "scrolled": true
   },
   "outputs": [
    {
     "data": {
      "text/html": [
       "<div>\n",
       "<style>\n",
       "    .dataframe thead tr:only-child th {\n",
       "        text-align: right;\n",
       "    }\n",
       "\n",
       "    .dataframe thead th {\n",
       "        text-align: left;\n",
       "    }\n",
       "\n",
       "    .dataframe tbody tr th {\n",
       "        vertical-align: top;\n",
       "    }\n",
       "</style>\n",
       "<table border=\"1\" class=\"dataframe\">\n",
       "  <thead>\n",
       "    <tr style=\"text-align: right;\">\n",
       "      <th></th>\n",
       "      <th>Unnamed: 0</th>\n",
       "      <th>Object</th>\n",
       "      <th>Square</th>\n",
       "      <th>Place</th>\n",
       "      <th>Material</th>\n",
       "      <th>Finish</th>\n",
       "      <th>Otd_Vstr</th>\n",
       "      <th>Transport</th>\n",
       "      <th>Otopl</th>\n",
       "      <th>Nazn</th>\n",
       "      <th>ValueForSquareMetre</th>\n",
       "    </tr>\n",
       "  </thead>\n",
       "  <tbody>\n",
       "    <tr>\n",
       "      <th>0</th>\n",
       "      <td>1</td>\n",
       "      <td>Analog 1</td>\n",
       "      <td>300</td>\n",
       "      <td>2</td>\n",
       "      <td>1</td>\n",
       "      <td>3</td>\n",
       "      <td>1</td>\n",
       "      <td>3</td>\n",
       "      <td>1</td>\n",
       "      <td>3</td>\n",
       "      <td>211.60</td>\n",
       "    </tr>\n",
       "    <tr>\n",
       "      <th>1</th>\n",
       "      <td>2</td>\n",
       "      <td>Analog 2</td>\n",
       "      <td>300</td>\n",
       "      <td>1</td>\n",
       "      <td>0</td>\n",
       "      <td>1</td>\n",
       "      <td>1</td>\n",
       "      <td>1</td>\n",
       "      <td>0</td>\n",
       "      <td>2</td>\n",
       "      <td>61.33</td>\n",
       "    </tr>\n",
       "    <tr>\n",
       "      <th>2</th>\n",
       "      <td>3</td>\n",
       "      <td>Analog 3</td>\n",
       "      <td>510</td>\n",
       "      <td>2</td>\n",
       "      <td>1</td>\n",
       "      <td>2</td>\n",
       "      <td>1</td>\n",
       "      <td>1</td>\n",
       "      <td>1</td>\n",
       "      <td>3</td>\n",
       "      <td>153.33</td>\n",
       "    </tr>\n",
       "    <tr>\n",
       "      <th>3</th>\n",
       "      <td>4</td>\n",
       "      <td>Analog 4</td>\n",
       "      <td>150</td>\n",
       "      <td>4</td>\n",
       "      <td>1</td>\n",
       "      <td>1</td>\n",
       "      <td>0</td>\n",
       "      <td>4</td>\n",
       "      <td>1</td>\n",
       "      <td>2</td>\n",
       "      <td>276.00</td>\n",
       "    </tr>\n",
       "    <tr>\n",
       "      <th>4</th>\n",
       "      <td>5</td>\n",
       "      <td>Analog 5</td>\n",
       "      <td>1000</td>\n",
       "      <td>2</td>\n",
       "      <td>0</td>\n",
       "      <td>2</td>\n",
       "      <td>1</td>\n",
       "      <td>2</td>\n",
       "      <td>1</td>\n",
       "      <td>2</td>\n",
       "      <td>184.00</td>\n",
       "    </tr>\n",
       "  </tbody>\n",
       "</table>\n",
       "</div>"
      ],
      "text/plain": [
       "   Unnamed: 0    Object  Square  Place  Material  Finish  Otd_Vstr  Transport  \\\n",
       "0           1  Analog 1     300      2         1       3         1          3   \n",
       "1           2  Analog 2     300      1         0       1         1          1   \n",
       "2           3  Analog 3     510      2         1       2         1          1   \n",
       "3           4  Analog 4     150      4         1       1         0          4   \n",
       "4           5  Analog 5    1000      2         0       2         1          2   \n",
       "\n",
       "   Otopl  Nazn  ValueForSquareMetre  \n",
       "0      1     3               211.60  \n",
       "1      0     2                61.33  \n",
       "2      1     3               153.33  \n",
       "3      1     2               276.00  \n",
       "4      1     2               184.00  "
      ]
     },
     "execution_count": 378,
     "metadata": {},
     "output_type": "execute_result"
    }
   ],
   "source": [
    "#что представляют собой данные\n",
    "data.head(5)"
   ]
  },
  {
   "cell_type": "code",
   "execution_count": 379,
   "metadata": {},
   "outputs": [
    {
     "data": {
      "text/plain": [
       "(39, 11)"
      ]
     },
     "execution_count": 379,
     "metadata": {},
     "output_type": "execute_result"
    }
   ],
   "source": [
    "#data[0] - количество аналогов, data[1] - количество признаков\n",
    "data.shape"
   ]
  },
  {
   "cell_type": "code",
   "execution_count": 380,
   "metadata": {
    "scrolled": false
   },
   "outputs": [
    {
     "data": {
      "text/html": [
       "<div>\n",
       "<style>\n",
       "    .dataframe thead tr:only-child th {\n",
       "        text-align: right;\n",
       "    }\n",
       "\n",
       "    .dataframe thead th {\n",
       "        text-align: left;\n",
       "    }\n",
       "\n",
       "    .dataframe tbody tr th {\n",
       "        vertical-align: top;\n",
       "    }\n",
       "</style>\n",
       "<table border=\"1\" class=\"dataframe\">\n",
       "  <thead>\n",
       "    <tr style=\"text-align: right;\">\n",
       "      <th></th>\n",
       "      <th>Unnamed: 0</th>\n",
       "      <th>Square</th>\n",
       "      <th>Place</th>\n",
       "      <th>Material</th>\n",
       "      <th>Finish</th>\n",
       "      <th>Otd_Vstr</th>\n",
       "      <th>Transport</th>\n",
       "      <th>Otopl</th>\n",
       "      <th>Nazn</th>\n",
       "      <th>ValueForSquareMetre</th>\n",
       "    </tr>\n",
       "  </thead>\n",
       "  <tbody>\n",
       "    <tr>\n",
       "      <th>Unnamed: 0</th>\n",
       "      <td>1.000000</td>\n",
       "      <td>0.138855</td>\n",
       "      <td>0.103908</td>\n",
       "      <td>0.309409</td>\n",
       "      <td>-0.071561</td>\n",
       "      <td>-0.068551</td>\n",
       "      <td>0.153542</td>\n",
       "      <td>-0.071240</td>\n",
       "      <td>-0.271584</td>\n",
       "      <td>-0.089716</td>\n",
       "    </tr>\n",
       "    <tr>\n",
       "      <th>Square</th>\n",
       "      <td>0.138855</td>\n",
       "      <td>1.000000</td>\n",
       "      <td>-0.352562</td>\n",
       "      <td>0.054654</td>\n",
       "      <td>-0.122120</td>\n",
       "      <td>0.259241</td>\n",
       "      <td>-0.302166</td>\n",
       "      <td>-0.157061</td>\n",
       "      <td>-0.026056</td>\n",
       "      <td>-0.237734</td>\n",
       "    </tr>\n",
       "    <tr>\n",
       "      <th>Place</th>\n",
       "      <td>0.103908</td>\n",
       "      <td>-0.352562</td>\n",
       "      <td>1.000000</td>\n",
       "      <td>0.075378</td>\n",
       "      <td>0.177967</td>\n",
       "      <td>-0.109109</td>\n",
       "      <td>0.861164</td>\n",
       "      <td>0.259851</td>\n",
       "      <td>0.102379</td>\n",
       "      <td>0.551273</td>\n",
       "    </tr>\n",
       "    <tr>\n",
       "      <th>Material</th>\n",
       "      <td>0.309409</td>\n",
       "      <td>0.054654</td>\n",
       "      <td>0.075378</td>\n",
       "      <td>1.000000</td>\n",
       "      <td>0.050082</td>\n",
       "      <td>-0.252215</td>\n",
       "      <td>0.136843</td>\n",
       "      <td>0.170941</td>\n",
       "      <td>0.308683</td>\n",
       "      <td>0.322106</td>\n",
       "    </tr>\n",
       "    <tr>\n",
       "      <th>Finish</th>\n",
       "      <td>-0.071561</td>\n",
       "      <td>-0.122120</td>\n",
       "      <td>0.177967</td>\n",
       "      <td>0.050082</td>\n",
       "      <td>1.000000</td>\n",
       "      <td>0.041425</td>\n",
       "      <td>0.236930</td>\n",
       "      <td>0.390138</td>\n",
       "      <td>0.346585</td>\n",
       "      <td>0.401459</td>\n",
       "    </tr>\n",
       "    <tr>\n",
       "      <th>Otd_Vstr</th>\n",
       "      <td>-0.068551</td>\n",
       "      <td>0.259241</td>\n",
       "      <td>-0.109109</td>\n",
       "      <td>-0.252215</td>\n",
       "      <td>0.041425</td>\n",
       "      <td>1.000000</td>\n",
       "      <td>-0.066026</td>\n",
       "      <td>-0.298985</td>\n",
       "      <td>0.153903</td>\n",
       "      <td>-0.371054</td>\n",
       "    </tr>\n",
       "    <tr>\n",
       "      <th>Transport</th>\n",
       "      <td>0.153542</td>\n",
       "      <td>-0.302166</td>\n",
       "      <td>0.861164</td>\n",
       "      <td>0.136843</td>\n",
       "      <td>0.236930</td>\n",
       "      <td>-0.066026</td>\n",
       "      <td>1.000000</td>\n",
       "      <td>0.271608</td>\n",
       "      <td>0.227163</td>\n",
       "      <td>0.567327</td>\n",
       "    </tr>\n",
       "    <tr>\n",
       "      <th>Otopl</th>\n",
       "      <td>-0.071240</td>\n",
       "      <td>-0.157061</td>\n",
       "      <td>0.259851</td>\n",
       "      <td>0.170941</td>\n",
       "      <td>0.390138</td>\n",
       "      <td>-0.298985</td>\n",
       "      <td>0.271608</td>\n",
       "      <td>1.000000</td>\n",
       "      <td>0.296665</td>\n",
       "      <td>0.670720</td>\n",
       "    </tr>\n",
       "    <tr>\n",
       "      <th>Nazn</th>\n",
       "      <td>-0.271584</td>\n",
       "      <td>-0.026056</td>\n",
       "      <td>0.102379</td>\n",
       "      <td>0.308683</td>\n",
       "      <td>0.346585</td>\n",
       "      <td>0.153903</td>\n",
       "      <td>0.227163</td>\n",
       "      <td>0.296665</td>\n",
       "      <td>1.000000</td>\n",
       "      <td>0.382345</td>\n",
       "    </tr>\n",
       "    <tr>\n",
       "      <th>ValueForSquareMetre</th>\n",
       "      <td>-0.089716</td>\n",
       "      <td>-0.237734</td>\n",
       "      <td>0.551273</td>\n",
       "      <td>0.322106</td>\n",
       "      <td>0.401459</td>\n",
       "      <td>-0.371054</td>\n",
       "      <td>0.567327</td>\n",
       "      <td>0.670720</td>\n",
       "      <td>0.382345</td>\n",
       "      <td>1.000000</td>\n",
       "    </tr>\n",
       "  </tbody>\n",
       "</table>\n",
       "</div>"
      ],
      "text/plain": [
       "                     Unnamed: 0    Square     Place  Material    Finish  \\\n",
       "Unnamed: 0             1.000000  0.138855  0.103908  0.309409 -0.071561   \n",
       "Square                 0.138855  1.000000 -0.352562  0.054654 -0.122120   \n",
       "Place                  0.103908 -0.352562  1.000000  0.075378  0.177967   \n",
       "Material               0.309409  0.054654  0.075378  1.000000  0.050082   \n",
       "Finish                -0.071561 -0.122120  0.177967  0.050082  1.000000   \n",
       "Otd_Vstr              -0.068551  0.259241 -0.109109 -0.252215  0.041425   \n",
       "Transport              0.153542 -0.302166  0.861164  0.136843  0.236930   \n",
       "Otopl                 -0.071240 -0.157061  0.259851  0.170941  0.390138   \n",
       "Nazn                  -0.271584 -0.026056  0.102379  0.308683  0.346585   \n",
       "ValueForSquareMetre   -0.089716 -0.237734  0.551273  0.322106  0.401459   \n",
       "\n",
       "                     Otd_Vstr  Transport     Otopl      Nazn  \\\n",
       "Unnamed: 0          -0.068551   0.153542 -0.071240 -0.271584   \n",
       "Square               0.259241  -0.302166 -0.157061 -0.026056   \n",
       "Place               -0.109109   0.861164  0.259851  0.102379   \n",
       "Material            -0.252215   0.136843  0.170941  0.308683   \n",
       "Finish               0.041425   0.236930  0.390138  0.346585   \n",
       "Otd_Vstr             1.000000  -0.066026 -0.298985  0.153903   \n",
       "Transport           -0.066026   1.000000  0.271608  0.227163   \n",
       "Otopl               -0.298985   0.271608  1.000000  0.296665   \n",
       "Nazn                 0.153903   0.227163  0.296665  1.000000   \n",
       "ValueForSquareMetre -0.371054   0.567327  0.670720  0.382345   \n",
       "\n",
       "                     ValueForSquareMetre  \n",
       "Unnamed: 0                     -0.089716  \n",
       "Square                         -0.237734  \n",
       "Place                           0.551273  \n",
       "Material                        0.322106  \n",
       "Finish                          0.401459  \n",
       "Otd_Vstr                       -0.371054  \n",
       "Transport                       0.567327  \n",
       "Otopl                           0.670720  \n",
       "Nazn                            0.382345  \n",
       "ValueForSquareMetre             1.000000  "
      ]
     },
     "execution_count": 380,
     "metadata": {},
     "output_type": "execute_result"
    }
   ],
   "source": [
    "#таблица корреляций признаков между собой\n",
    "data.corr()"
   ]
  },
  {
   "cell_type": "markdown",
   "metadata": {},
   "source": [
    "# Работа со всеми признаками "
   ]
  },
  {
   "cell_type": "code",
   "execution_count": 381,
   "metadata": {
    "collapsed": true
   },
   "outputs": [],
   "source": [
    "#размер листа равен количеству столбцов в матрице в данными\n",
    "list = range(data.shape[0])"
   ]
  },
  {
   "cell_type": "code",
   "execution_count": 382,
   "metadata": {},
   "outputs": [
    {
     "name": "stdout",
     "output_type": "stream",
     "text": [
      "    Unnamed: 0     Object  Square  Place  Material  Finish  Otd_Vstr  \\\n",
      "36          37  Analog 37     315      2         1       1         0   \n",
      "8            9   Analog 9     260      3         0       2         1   \n",
      "0            1   Analog 1     300      2         1       3         1   \n",
      "25          26  Analog 26     250      3         1       1         1   \n",
      "10          11  Analog 11      84      2         1       1         1   \n",
      "7            8   Analog 8     400      2         1       2         0   \n",
      "33          34  Analog 34     350      2         1       3         0   \n",
      "20          21  Analog 21    1000      3         1       2         1   \n",
      "17          18  Analog 18     450      1         0       1         1   \n",
      "29          30  Analog 30     350      2         1       3         0   \n",
      "13          14  Analog 14     215      3         1       2         0   \n",
      "9           10  Analog 10     800      1         1       2         1   \n",
      "19          20  Analog 20     300      2         1       2         0   \n",
      "30          31  Analog 31     800      1         1       1         0   \n",
      "11          12  Analog 12     200      4         0       2         0   \n",
      "27          28  Analog 28     315      2         1       1         0   \n",
      "38          39  Analog 39     800      2         1       3         1   \n",
      "6            7   Analog 7     200      3         1       3         1   \n",
      "18          19  Analog 19      70      4         1       1         0   \n",
      "22          23  Analog 23      63      4         1       3         1   \n",
      "3            4   Analog 4     150      4         1       1         0   \n",
      "14          15  Analog 15     300      3         1       2         0   \n",
      "4            5   Analog 5    1000      2         0       2         1   \n",
      "16          17  Analog 17      93      3         1       3         1   \n",
      "\n",
      "    Transport  Otopl  Nazn  ValueForSquareMetre  \n",
      "36          1      1     1               192.76  \n",
      "8           3      0     1               123.85  \n",
      "0           3      1     3               211.60  \n",
      "25          5      0     1               110.40  \n",
      "10          3      1     2               240.95  \n",
      "7           3      1     3               211.60  \n",
      "33          3      1     1               199.77  \n",
      "20          5      1     3               184.00  \n",
      "17          1      1     1                92.00  \n",
      "29          3      1     1               199.77  \n",
      "13          4      1     1               231.07  \n",
      "9           1      0     3                73.60  \n",
      "19          2      1     2               153.33  \n",
      "30          1      0     2                74.75  \n",
      "11          5      1     2               230.00  \n",
      "27          1      1     1               192.76  \n",
      "38          2      1     3               174.80  \n",
      "6           3      1     3               276.00  \n",
      "18          5      1     2               276.00  \n",
      "22          5      1     3               292.06  \n",
      "3           4      1     2               276.00  \n",
      "14          3      1     2               153.33  \n",
      "4           2      1     2               184.00  \n",
      "16          5      1     3               346.24  \n",
      "                             OLS Regression Results                            \n",
      "===============================================================================\n",
      "Dep. Variable:     ValueForSquareMetre   R-squared:                       0.816\n",
      "Model:                             OLS   Adj. R-squared:                  0.717\n",
      "Method:                  Least Squares   F-statistic:                     8.292\n",
      "Date:                 Thu, 15 Feb 2018   Prob (F-statistic):           0.000259\n",
      "Time:                         19:49:42   Log-Likelihood:                -115.29\n",
      "No. Observations:                   24   AIC:                             248.6\n",
      "Df Residuals:                       15   BIC:                             259.2\n",
      "Df Model:                            8                                         \n",
      "Covariance Type:             nonrobust                                         \n",
      "==============================================================================\n",
      "                 coef    std err          t      P>|t|      [0.025      0.975]\n",
      "------------------------------------------------------------------------------\n",
      "Intercept     26.6013     48.045      0.554      0.588     -75.804     129.007\n",
      "Square        -0.0777      0.037     -2.124      0.051      -0.156       0.000\n",
      "Place         20.9870     18.722      1.121      0.280     -18.918      60.892\n",
      "Material      19.2875     25.001      0.771      0.452     -34.000      72.575\n",
      "Finish         5.9234     11.546      0.513      0.615     -18.687      30.534\n",
      "Otd_Vstr      10.1836     20.248      0.503      0.622     -32.973      53.340\n",
      "Transport      4.0909     11.172      0.366      0.719     -19.722      27.904\n",
      "Otopl         84.3074     23.369      3.608      0.003      34.497     134.118\n",
      "Nazn          15.3327     13.282      1.154      0.266     -12.976      43.642\n",
      "==============================================================================\n",
      "Omnibus:                        1.091   Durbin-Watson:                   2.137\n",
      "Prob(Omnibus):                  0.580   Jarque-Bera (JB):                0.272\n",
      "Skew:                          -0.213   Prob(JB):                        0.873\n",
      "Kurtosis:                       3.301   Cond. No.                     3.28e+03\n",
      "==============================================================================\n",
      "\n",
      "Warnings:\n",
      "[1] Standard Errors assume that the covariance matrix of the errors is correctly specified.\n",
      "[2] The condition number is large, 3.28e+03. This might indicate that there are\n",
      "strong multicollinearity or other numerical problems.\n",
      "                                 OLS Regression Results                                \n",
      "=======================================================================================\n",
      "Dep. Variable:     np.log(ValueForSquareMetre)   R-squared:                       0.858\n",
      "Model:                                     OLS   Adj. R-squared:                  0.783\n",
      "Method:                          Least Squares   F-statistic:                     11.36\n",
      "Date:                         Thu, 15 Feb 2018   Prob (F-statistic):           4.08e-05\n",
      "Time:                                 19:49:42   Log-Likelihood:                 11.040\n",
      "No. Observations:                           24   AIC:                            -4.079\n",
      "Df Residuals:                               15   BIC:                             6.523\n",
      "Df Model:                                    8                                         \n",
      "Covariance Type:                     nonrobust                                         \n",
      "==============================================================================\n",
      "                 coef    std err          t      P>|t|      [0.025      0.975]\n",
      "------------------------------------------------------------------------------\n",
      "Intercept      4.0729      0.249     16.378      0.000       3.543       4.603\n",
      "Square        -0.0003      0.000     -1.598      0.131      -0.001       0.000\n",
      "Place          0.1591      0.097      1.642      0.121      -0.047       0.366\n",
      "Material       0.1352      0.129      1.044      0.313      -0.141       0.411\n",
      "Finish         0.0563      0.060      0.943      0.361      -0.071       0.184\n",
      "Otd_Vstr       0.0605      0.105      0.578      0.572      -0.163       0.284\n",
      "Transport      0.0127      0.058      0.219      0.829      -0.111       0.136\n",
      "Otopl          0.6127      0.121      5.065      0.000       0.355       0.871\n",
      "Nazn           0.0225      0.069      0.328      0.748      -0.124       0.169\n",
      "==============================================================================\n",
      "Omnibus:                        3.385   Durbin-Watson:                   2.086\n",
      "Prob(Omnibus):                  0.184   Jarque-Bera (JB):                2.028\n",
      "Skew:                          -0.694   Prob(JB):                        0.363\n",
      "Kurtosis:                       3.318   Cond. No.                     3.28e+03\n",
      "==============================================================================\n",
      "\n",
      "Warnings:\n",
      "[1] Standard Errors assume that the covariance matrix of the errors is correctly specified.\n",
      "[2] The condition number is large, 3.28e+03. This might indicate that there are\n",
      "strong multicollinearity or other numerical problems.\n"
     ]
    }
   ],
   "source": [
    "rn.seed(5)\n",
    "for i in range(10000):#сколько регрессионных моделей будет построено\n",
    "    people_number = rn.randint(20, 27) #количество аналогов в каждой из построенных моделей\n",
    "    combin = rn.sample(list,people_number) #комбинация из people_number аналогов (рандомные позиции в исходном датафрейме)\n",
    "    random_dataframe = pd.DataFrame(data=data.ix[combin,])# составленный датафрейм поданный на обучение\n",
    "    m1 = smf.ols('ValueForSquareMetre ~ Square + Place + Material + Finish + Otd_Vstr + Transport + Otopl + Nazn', data=random_dataframe)\n",
    "    fitted = m1.fit()\n",
    "    if (fitted.rsquared >= 0.8 and fitted.params['Square'] < 0 and fitted.params['Place'] > 0 and fitted.params['Material'] > 0 and \n",
    "        fitted.params['Transport'] > 0 and fitted.params['Otopl'] > 0 and fitted.params['Finish'] > 0 and fitted.params['Nazn'] > 0 and\n",
    "        fitted.params['Otd_Vstr'] > 0 and np.all(np.array(fitted.params['Intercept'] + fitted.params['Square']*test['Square'] + fitted.params['Place']*test['Place'] + \n",
    "        fitted.params['Material']*test['Material'] + fitted.params['Transport']*test['Transport'] + fitted.params['Otopl']*test['Otopl'] + fitted.params['Nazn']*test['Nazn'] + fitted.params['Finish']*test['Finish'] + \n",
    "        fitted.params['Otd_Vstr']*test['Otd_Vstr']).reshape(-1,1) < 270) and np.all(np.array(fitted.params['Intercept'] + fitted.params['Square']*test['Square'] + fitted.params['Place']*test['Place'] + \n",
    "        fitted.params['Material']*test['Material'] + fitted.params['Transport']*test['Transport'] + fitted.params['Otopl']*test['Otopl'] + fitted.params['Nazn']*test['Nazn'] + fitted.params['Finish']*test['Finish'] + \n",
    "        fitted.params['Otd_Vstr']*test['Otd_Vstr']).reshape(-1,1)) > 0):\n",
    "        m2 = smf.ols('np.log(ValueForSquareMetre) ~ Square + Place + Material + Finish + Otd_Vstr + Transport + Otopl + Nazn', data=random_dataframe)\n",
    "        fitted_second = m2.fit()\n",
    "        if (fitted_second.rsquared >= 0.7 and math.exp(fitted_second.params['Square']) < 1 and math.exp(fitted_second.params['Place']) > 1 \n",
    "            and math.exp(fitted_second.params['Material']) > 1 and math.exp(fitted_second.params['Transport']) > 1 and \n",
    "            math.exp(fitted_second.params['Otopl']) > 1 and math.exp(fitted_second.params['Finish']) > 1 and math.exp(fitted_second.params['Nazn']) > 1 and\n",
    "            math.exp(fitted_second.params['Otd_Vstr']) > 1 and np.all(math.exp(fitted_second.params['Intercept'])*  \n",
    "            math.exp(fitted_second.params['Square'])**test['Square'] * math.exp(fitted_second.params['Place'])**test['Place'] * \n",
    "            math.exp(fitted_second.params['Material'])**test['Material'] * math.exp(fitted_second.params['Transport'])**test['Transport'] * \n",
    "            math.exp(fitted_second.params['Otopl'])**test['Otopl'] * math.exp(fitted_second.params['Nazn'])**test['Nazn'] * \n",
    "            math.exp(fitted_second.params['Finish'])**test['Finish'] * math.exp(fitted_second.params['Otd_Vstr'])**test['Otd_Vstr']) < 250 and np.all(math.exp(fitted_second.params['Intercept'])*  \n",
    "            math.exp(fitted_second.params['Square'])**test['Square'] * math.exp(fitted_second.params['Place'])**test['Place'] * \n",
    "            math.exp(fitted_second.params['Material'])**test['Material'] * math.exp(fitted_second.params['Transport'])**test['Transport'] * \n",
    "            math.exp(fitted_second.params['Otopl'])**test['Otopl'] * math.exp(fitted_second.params['Nazn'])**test['Nazn'] * \n",
    "            math.exp(fitted_second.params['Finish'])**test['Finish'] * math.exp(fitted_second.params['Otd_Vstr'])**test['Otd_Vstr']) > 0):\n",
    "            print(random_dataframe)\n",
    "            print(fitted.summary())\n",
    "            print(fitted_second.summary())\n",
    "            break"
   ]
  },
  {
   "cell_type": "code",
   "execution_count": 383,
   "metadata": {},
   "outputs": [
    {
     "data": {
      "text/plain": [
       "(24,)"
      ]
     },
     "execution_count": 383,
     "metadata": {},
     "output_type": "execute_result"
    }
   ],
   "source": [
    "#количество аналогов в построенной модели\n",
    "random_dataframe['Object'].shape"
   ]
  },
  {
   "cell_type": "code",
   "execution_count": 384,
   "metadata": {},
   "outputs": [
    {
     "name": "stdout",
     "output_type": "stream",
     "text": [
      "0    243.230231\n",
      "1    258.454420\n",
      "2    250.353411\n",
      "3    253.592000\n",
      "4    145.275001\n",
      "5    257.064048\n",
      "6    236.037578\n",
      "7   -112.497436\n",
      "dtype: float64\n"
     ]
    }
   ],
   "source": [
    "# предсказания по линейной модели\n",
    "print(fitted.params['Intercept'] + fitted.params['Square']*test['Square'] + fitted.params['Transport']*test['Transport'] + \n",
    "      fitted.params['Place']*test['Place'] + fitted.params['Material']*test['Material'] + \n",
    "      fitted.params['Otopl']*test['Otopl']+ fitted.params['Nazn']*test['Nazn'] +\n",
    "      fitted.params['Finish']*test['Finish'] + fitted.params['Otd_Vstr']*test['Otd_Vstr'])"
   ]
  },
  {
   "cell_type": "code",
   "execution_count": 385,
   "metadata": {},
   "outputs": [
    {
     "name": "stdout",
     "output_type": "stream",
     "text": [
      "0    233.407417\n",
      "1    247.663493\n",
      "2    258.494820\n",
      "3    243.018093\n",
      "4    159.386501\n",
      "5    246.326183\n",
      "6    226.960536\n",
      "7     54.412589\n",
      "dtype: float64\n"
     ]
    }
   ],
   "source": [
    "#предсказания по экспоненциальной модели\n",
    "print(math.exp(fitted_second.params['Intercept'])*math.exp(fitted_second.params['Square'])**test['Square']*math.exp(fitted_second.params['Transport'])**test['Transport']*math.exp(fitted_second.params['Place'])**test['Place']*math.exp(fitted_second.params['Material'])**test['Material']*math.exp(fitted_second.params['Otopl'])**test['Otopl']*math.exp(fitted_second.params['Nazn'])**test['Nazn']*math.exp(fitted_second.params['Finish'])**test['Finish']*math.exp(fitted_second.params['Otd_Vstr'])**test['Otd_Vstr']) "
   ]
  },
  {
   "cell_type": "markdown",
   "metadata": {},
   "source": [
    "Посмотрим на наблюдения, которые сильно влияют на регрессионное уравнение --> это индексы аналогов(т.е. чтобы получить сами аналоги нужно к индексу прибавить 1)"
   ]
  },
  {
   "cell_type": "code",
   "execution_count": 386,
   "metadata": {},
   "outputs": [
    {
     "data": {
      "image/png": "[encoded data removed]",
      "text/plain": [
       "<matplotlib.figure.Figure at 0x11b267f60>"
      ]
     },
     "metadata": {},
     "output_type": "display_data"
    }
   ],
   "source": [
    "fig, ax = plt.subplots(figsize=(12,8))\n",
    "fig = influence_plot(fitted, alpha=1,ax=ax)"
   ]
  },
  {
   "cell_type": "code",
   "execution_count": 387,
   "metadata": {
    "collapsed": true
   },
   "outputs": [],
   "source": [
    "#сохранить результаты в файл analogs.txt\n",
    "np.savetxt(r'./analogs.txt', random_dataframe['Object'], fmt='%5s')"
   ]
  },
  {
   "cell_type": "markdown",
   "metadata": {},
   "source": [
    "### Уменьшение размерности исходных даных\n"
   ]
  },
  {
   "cell_type": "code",
   "execution_count": 388,
   "metadata": {
    "collapsed": true
   },
   "outputs": [],
   "source": [
    "def change(value):\n",
    "    if (value > 0 and value < 101):\n",
    "        return 5\n",
    "    if (value > 100 and value < 301):\n",
    "        return 4\n",
    "    if (value > 300 and value < 1001):\n",
    "        return 3\n",
    "    if (value > 1000 and value < 2001):\n",
    "        return 2\n",
    "    if (value > 2000):\n",
    "        return 1"
   ]
  },
  {
   "cell_type": "code",
   "execution_count": 389,
   "metadata": {},
   "outputs": [],
   "source": [
    "dict = {0:1, 1:2}\n",
    "random_dataframe['Square'] = random_dataframe['Square'].apply(change)\n",
    "random_dataframe['Material'] = random_dataframe['Material'].map(dict)\n",
    "random_dataframe['Otd_Vstr'] = random_dataframe['Otd_Vstr'].map(dict)\n",
    "random_dataframe['Otopl'] = random_dataframe['Otopl'].map(dict)"
   ]
  },
  {
   "cell_type": "code",
   "execution_count": 390,
   "metadata": {},
   "outputs": [],
   "source": [
    "import sklearn\n",
    "from sklearn.decomposition import PCA\n",
    "pca = PCA(n_components=1)\n",
    "X_r = pca.fit(random_dataframe.iloc[:,2:-1]).transform(random_dataframe.iloc[:,2:-1])"
   ]
  },
  {
   "cell_type": "code",
   "execution_count": 391,
   "metadata": {},
   "outputs": [
    {
     "data": {
      "text/plain": [
       "array([ 0.58138099])"
      ]
     },
     "execution_count": 391,
     "metadata": {},
     "output_type": "execute_result"
    }
   ],
   "source": [
    "pca.explained_variance_ratio_"
   ]
  },
  {
   "cell_type": "code",
   "execution_count": 392,
   "metadata": {},
   "outputs": [],
   "source": [
    "u,s,vh = np.linalg.svd(random_dataframe.iloc[:,2:-1])"
   ]
  },
  {
   "cell_type": "code",
   "execution_count": 393,
   "metadata": {},
   "outputs": [],
   "source": [
    "projection = np.dot(random_dataframe.iloc[:,2:-1],(-(vh[np.argmax(s)])))"
   ]
  },
  {
   "cell_type": "code",
   "execution_count": 394,
   "metadata": {},
   "outputs": [
    {
     "data": {
      "text/plain": [
       "array([ 4.67225121,  6.50113287,  7.51912717,  7.4120756 ,  7.19474791,\n",
       "        6.47994654,  6.17908903,  8.00544987,  4.25136287,  6.17908903,\n",
       "        7.2762819 ,  5.12190162,  6.25824342,  4.32907176,  8.15228906,\n",
       "        4.67225121,  6.51161125,  7.89416913,  8.66658603,  9.74478091,\n",
       "        7.6590701 ,  7.10133927,  5.672935  ,  9.36973896])"
      ]
     },
     "execution_count": 394,
     "metadata": {},
     "output_type": "execute_result"
    }
   ],
   "source": [
    "projection"
   ]
  },
  {
   "cell_type": "code",
   "execution_count": 395,
   "metadata": {
    "collapsed": true
   },
   "outputs": [],
   "source": [
    "data_with_projection = random_dataframe\n",
    "data_with_projection['projection'] = projection"
   ]
  },
  {
   "cell_type": "code",
   "execution_count": 396,
   "metadata": {
    "collapsed": true
   },
   "outputs": [],
   "source": [
    "fit_project = smf.ols('projection ~ Square + Place + Material + Finish + Otd_Vstr + Transport + Otopl + Nazn', data=data_with_projection)\n",
    "res = fit_project.fit()"
   ]
  },
  {
   "cell_type": "code",
   "execution_count": 397,
   "metadata": {},
   "outputs": [
    {
     "data": {
      "text/html": [
       "<table class=\"simpletable\">\n",
       "<caption>OLS Regression Results</caption>\n",
       "<tr>\n",
       "  <th>Dep. Variable:</th>       <td>projection</td>    <th>  R-squared:         </th> <td>   1.000</td> \n",
       "</tr>\n",
       "<tr>\n",
       "  <th>Model:</th>                   <td>OLS</td>       <th>  Adj. R-squared:    </th> <td>   1.000</td> \n",
       "</tr>\n",
       "<tr>\n",
       "  <th>Method:</th>             <td>Least Squares</td>  <th>  F-statistic:       </th> <td>1.891e+29</td>\n",
       "</tr>\n",
       "<tr>\n",
       "  <th>Date:</th>             <td>Thu, 15 Feb 2018</td> <th>  Prob (F-statistic):</th> <td>4.20e-216</td>\n",
       "</tr>\n",
       "<tr>\n",
       "  <th>Time:</th>                 <td>19:50:58</td>     <th>  Log-Likelihood:    </th> <td>  757.97</td> \n",
       "</tr>\n",
       "<tr>\n",
       "  <th>No. Observations:</th>      <td>    24</td>      <th>  AIC:               </th> <td>  -1498.</td> \n",
       "</tr>\n",
       "<tr>\n",
       "  <th>Df Residuals:</th>          <td>    15</td>      <th>  BIC:               </th> <td>  -1487.</td> \n",
       "</tr>\n",
       "<tr>\n",
       "  <th>Df Model:</th>              <td>     8</td>      <th>                     </th>     <td> </td>    \n",
       "</tr>\n",
       "<tr>\n",
       "  <th>Covariance Type:</th>      <td>nonrobust</td>    <th>                     </th>     <td> </td>    \n",
       "</tr>\n",
       "</table>\n",
       "<table class=\"simpletable\">\n",
       "<tr>\n",
       "      <td></td>         <th>coef</th>     <th>std err</th>      <th>t</th>      <th>P>|t|</th>  <th>[0.025</th>    <th>0.975]</th>  \n",
       "</tr>\n",
       "<tr>\n",
       "  <th>Intercept</th> <td> 4.441e-15</td> <td> 1.19e-14</td> <td>    0.373</td> <td> 0.714</td> <td>-2.09e-14</td> <td> 2.98e-14</td>\n",
       "</tr>\n",
       "<tr>\n",
       "  <th>Square</th>    <td>    0.5395</td> <td>  2.4e-15</td> <td> 2.25e+14</td> <td> 0.000</td> <td>    0.539</td> <td>    0.539</td>\n",
       "</tr>\n",
       "<tr>\n",
       "  <th>Place</th>     <td>    0.3750</td> <td> 2.93e-15</td> <td> 1.28e+14</td> <td> 0.000</td> <td>    0.375</td> <td>    0.375</td>\n",
       "</tr>\n",
       "<tr>\n",
       "  <th>Material</th>  <td>    0.2602</td> <td> 3.86e-15</td> <td> 6.74e+13</td> <td> 0.000</td> <td>    0.260</td> <td>    0.260</td>\n",
       "</tr>\n",
       "<tr>\n",
       "  <th>Finish</th>    <td>    0.2854</td> <td> 1.85e-15</td> <td> 1.54e+14</td> <td> 0.000</td> <td>    0.285</td> <td>    0.285</td>\n",
       "</tr>\n",
       "<tr>\n",
       "  <th>Otd_Vstr</th>  <td>    0.2144</td> <td> 3.35e-15</td> <td>  6.4e+13</td> <td> 0.000</td> <td>    0.214</td> <td>    0.214</td>\n",
       "</tr>\n",
       "<tr>\n",
       "  <th>Transport</th> <td>    0.4681</td> <td> 1.78e-15</td> <td> 2.64e+14</td> <td> 0.000</td> <td>    0.468</td> <td>    0.468</td>\n",
       "</tr>\n",
       "<tr>\n",
       "  <th>Otopl</th>     <td>    0.2612</td> <td> 3.64e-15</td> <td> 7.17e+13</td> <td> 0.000</td> <td>    0.261</td> <td>    0.261</td>\n",
       "</tr>\n",
       "<tr>\n",
       "  <th>Nazn</th>      <td>    0.2931</td> <td> 1.93e-15</td> <td> 1.52e+14</td> <td> 0.000</td> <td>    0.293</td> <td>    0.293</td>\n",
       "</tr>\n",
       "</table>\n",
       "<table class=\"simpletable\">\n",
       "<tr>\n",
       "  <th>Omnibus:</th>       <td> 5.031</td> <th>  Durbin-Watson:     </th> <td>   0.185</td>\n",
       "</tr>\n",
       "<tr>\n",
       "  <th>Prob(Omnibus):</th> <td> 0.081</td> <th>  Jarque-Bera (JB):  </th> <td>   1.645</td>\n",
       "</tr>\n",
       "<tr>\n",
       "  <th>Skew:</th>          <td>-0.064</td> <th>  Prob(JB):          </th> <td>   0.439</td>\n",
       "</tr>\n",
       "<tr>\n",
       "  <th>Kurtosis:</th>      <td> 1.724</td> <th>  Cond. No.          </th> <td>    72.9</td>\n",
       "</tr>\n",
       "</table>"
      ],
      "text/plain": [
       "<class 'statsmodels.iolib.summary.Summary'>\n",
       "\"\"\"\n",
       "                            OLS Regression Results                            \n",
       "==============================================================================\n",
       "Dep. Variable:             projection   R-squared:                       1.000\n",
       "Model:                            OLS   Adj. R-squared:                  1.000\n",
       "Method:                 Least Squares   F-statistic:                 1.891e+29\n",
       "Date:                Thu, 15 Feb 2018   Prob (F-statistic):          4.20e-216\n",
       "Time:                        19:50:58   Log-Likelihood:                 757.97\n",
       "No. Observations:                  24   AIC:                            -1498.\n",
       "Df Residuals:                      15   BIC:                            -1487.\n",
       "Df Model:                           8                                         \n",
       "Covariance Type:            nonrobust                                         \n",
       "==============================================================================\n",
       "                 coef    std err          t      P>|t|      [0.025      0.975]\n",
       "------------------------------------------------------------------------------\n",
       "Intercept   4.441e-15   1.19e-14      0.373      0.714   -2.09e-14    2.98e-14\n",
       "Square         0.5395    2.4e-15   2.25e+14      0.000       0.539       0.539\n",
       "Place          0.3750   2.93e-15   1.28e+14      0.000       0.375       0.375\n",
       "Material       0.2602   3.86e-15   6.74e+13      0.000       0.260       0.260\n",
       "Finish         0.2854   1.85e-15   1.54e+14      0.000       0.285       0.285\n",
       "Otd_Vstr       0.2144   3.35e-15    6.4e+13      0.000       0.214       0.214\n",
       "Transport      0.4681   1.78e-15   2.64e+14      0.000       0.468       0.468\n",
       "Otopl          0.2612   3.64e-15   7.17e+13      0.000       0.261       0.261\n",
       "Nazn           0.2931   1.93e-15   1.52e+14      0.000       0.293       0.293\n",
       "==============================================================================\n",
       "Omnibus:                        5.031   Durbin-Watson:                   0.185\n",
       "Prob(Omnibus):                  0.081   Jarque-Bera (JB):                1.645\n",
       "Skew:                          -0.064   Prob(JB):                        0.439\n",
       "Kurtosis:                       1.724   Cond. No.                         72.9\n",
       "==============================================================================\n",
       "\n",
       "Warnings:\n",
       "[1] Standard Errors assume that the covariance matrix of the errors is correctly specified.\n",
       "\"\"\""
      ]
     },
     "execution_count": 397,
     "metadata": {},
     "output_type": "execute_result"
    }
   ],
   "source": [
    "res.summary()"
   ]
  },
  {
   "cell_type": "code",
   "execution_count": 399,
   "metadata": {},
   "outputs": [
    {
     "name": "stdout",
     "output_type": "stream",
     "text": [
      "[[ 34.81491008]]\n"
     ]
    }
   ],
   "source": [
    "#lin_reg\n",
    "from sklearn.linear_model import LinearRegression\n",
    "lr =  LinearRegression()\n",
    "lr.fit(projection.reshape(random_dataframe.shape[0],1), random_dataframe['ValueForSquareMetre'].reshape(24,1))\n",
    "print(lr.coef_)\n",
    "points = range(4,12)\n",
    "predicts = lr.coef_* points"
   ]
  },
  {
   "cell_type": "code",
   "execution_count": 400,
   "metadata": {},
   "outputs": [],
   "source": [
    "#exp_reg\n",
    "from scipy.optimize import curve_fit\n",
    "def func(x, a, b, c):\n",
    "    return a * np.exp(-b * x) + c\n",
    "\n",
    "xdata = np.linspace(3, 10, random_dataframe.shape[0])\n",
    "ydata = random_dataframe['ValueForSquareMetre']\n",
    "popt, pcov = curve_fit(func, xdata, ydata)"
   ]
  },
  {
   "cell_type": "code",
   "execution_count": 401,
   "metadata": {},
   "outputs": [
    {
     "data": {
      "text/plain": [
       "<matplotlib.text.Text at 0x11b34d0f0>"
      ]
     },
     "execution_count": 401,
     "metadata": {},
     "output_type": "execute_result"
    },
    {
     "data": {
      "image/png": "[encoded data removed]",
      "text/plain": [
       "<matplotlib.figure.Figure at 0x1193378d0>"
      ]
     },
     "metadata": {},
     "output_type": "display_data"
    }
   ],
   "source": [
    "plt.figure(figsize = (12,5))\n",
    "plt.plot(projection, random_dataframe['ValueForSquareMetre'], 'r+')\n",
    "plt.plot(points, predicts.reshape(8,), 'b')\n",
    "plt.plot(xdata, func(xdata, *popt), 'r-')\n",
    "plt.xlabel('Уравнение проекции: 0.5*Square + 0.37*Place + 0.46*Transport + 0.26*Material + 0.28*Finish + 0.29*Nazn + 0.26*Otopl + 0.21*Otd_Vstr')\n",
    "plt.ylabel('Цена за метр квадратный')"
   ]
  },
  {
   "cell_type": "markdown",
   "metadata": {},
   "source": [
    "# Работа с частью признаков"
   ]
  },
  {
   "cell_type": "code",
   "execution_count": 402,
   "metadata": {
    "collapsed": true
   },
   "outputs": [],
   "source": [
    "def transform(data):\n",
    "    list_of_features = []\n",
    "    column = None\n",
    "    for _ in range(100):\n",
    "        column = input(\"Enter feature \")\n",
    "        if (column != 'end'):\n",
    "            list_of_features.append(column)\n",
    "            data_fixed = data[list_of_features]\n",
    "        else:\n",
    "            break\n",
    "    return data_fixed"
   ]
  },
  {
   "cell_type": "code",
   "execution_count": 403,
   "metadata": {},
   "outputs": [
    {
     "data": {
      "text/html": [
       "<div>\n",
       "<style>\n",
       "    .dataframe thead tr:only-child th {\n",
       "        text-align: right;\n",
       "    }\n",
       "\n",
       "    .dataframe thead th {\n",
       "        text-align: left;\n",
       "    }\n",
       "\n",
       "    .dataframe tbody tr th {\n",
       "        vertical-align: top;\n",
       "    }\n",
       "</style>\n",
       "<table border=\"1\" class=\"dataframe\">\n",
       "  <thead>\n",
       "    <tr style=\"text-align: right;\">\n",
       "      <th></th>\n",
       "      <th>Unnamed: 0</th>\n",
       "      <th>Object</th>\n",
       "      <th>Square</th>\n",
       "      <th>Place</th>\n",
       "      <th>Material</th>\n",
       "      <th>Finish</th>\n",
       "      <th>Otd_Vstr</th>\n",
       "      <th>Transport</th>\n",
       "      <th>Otopl</th>\n",
       "      <th>Nazn</th>\n",
       "      <th>ValueForSquareMetre</th>\n",
       "    </tr>\n",
       "  </thead>\n",
       "  <tbody>\n",
       "    <tr>\n",
       "      <th>0</th>\n",
       "      <td>1</td>\n",
       "      <td>Analog 1</td>\n",
       "      <td>300</td>\n",
       "      <td>2</td>\n",
       "      <td>1</td>\n",
       "      <td>3</td>\n",
       "      <td>1</td>\n",
       "      <td>3</td>\n",
       "      <td>1</td>\n",
       "      <td>3</td>\n",
       "      <td>211.60</td>\n",
       "    </tr>\n",
       "    <tr>\n",
       "      <th>1</th>\n",
       "      <td>2</td>\n",
       "      <td>Analog 2</td>\n",
       "      <td>300</td>\n",
       "      <td>1</td>\n",
       "      <td>0</td>\n",
       "      <td>1</td>\n",
       "      <td>1</td>\n",
       "      <td>1</td>\n",
       "      <td>0</td>\n",
       "      <td>2</td>\n",
       "      <td>61.33</td>\n",
       "    </tr>\n",
       "    <tr>\n",
       "      <th>2</th>\n",
       "      <td>3</td>\n",
       "      <td>Analog 3</td>\n",
       "      <td>510</td>\n",
       "      <td>2</td>\n",
       "      <td>1</td>\n",
       "      <td>2</td>\n",
       "      <td>1</td>\n",
       "      <td>1</td>\n",
       "      <td>1</td>\n",
       "      <td>3</td>\n",
       "      <td>153.33</td>\n",
       "    </tr>\n",
       "    <tr>\n",
       "      <th>3</th>\n",
       "      <td>4</td>\n",
       "      <td>Analog 4</td>\n",
       "      <td>150</td>\n",
       "      <td>4</td>\n",
       "      <td>1</td>\n",
       "      <td>1</td>\n",
       "      <td>0</td>\n",
       "      <td>4</td>\n",
       "      <td>1</td>\n",
       "      <td>2</td>\n",
       "      <td>276.00</td>\n",
       "    </tr>\n",
       "  </tbody>\n",
       "</table>\n",
       "</div>"
      ],
      "text/plain": [
       "   Unnamed: 0    Object  Square  Place  Material  Finish  Otd_Vstr  Transport  \\\n",
       "0           1  Analog 1     300      2         1       3         1          3   \n",
       "1           2  Analog 2     300      1         0       1         1          1   \n",
       "2           3  Analog 3     510      2         1       2         1          1   \n",
       "3           4  Analog 4     150      4         1       1         0          4   \n",
       "\n",
       "   Otopl  Nazn  ValueForSquareMetre  \n",
       "0      1     3               211.60  \n",
       "1      0     2                61.33  \n",
       "2      1     3               153.33  \n",
       "3      1     2               276.00  "
      ]
     },
     "execution_count": 403,
     "metadata": {},
     "output_type": "execute_result"
    }
   ],
   "source": [
    "data.head(4)"
   ]
  },
  {
   "cell_type": "code",
   "execution_count": 407,
   "metadata": {},
   "outputs": [
    {
     "name": "stdout",
     "output_type": "stream",
     "text": [
      "Enter feature Object\n",
      "Enter feature Place\n",
      "Enter feature Square\n",
      "Enter feature ValueForSquareMetre\n",
      "Enter feature end\n"
     ]
    }
   ],
   "source": [
    "data_fixed = transform(data)"
   ]
  },
  {
   "cell_type": "code",
   "execution_count": 408,
   "metadata": {},
   "outputs": [
    {
     "data": {
      "text/html": [
       "<div>\n",
       "<style>\n",
       "    .dataframe thead tr:only-child th {\n",
       "        text-align: right;\n",
       "    }\n",
       "\n",
       "    .dataframe thead th {\n",
       "        text-align: left;\n",
       "    }\n",
       "\n",
       "    .dataframe tbody tr th {\n",
       "        vertical-align: top;\n",
       "    }\n",
       "</style>\n",
       "<table border=\"1\" class=\"dataframe\">\n",
       "  <thead>\n",
       "    <tr style=\"text-align: right;\">\n",
       "      <th></th>\n",
       "      <th>Object</th>\n",
       "      <th>Place</th>\n",
       "      <th>Square</th>\n",
       "      <th>ValueForSquareMetre</th>\n",
       "    </tr>\n",
       "  </thead>\n",
       "  <tbody>\n",
       "    <tr>\n",
       "      <th>0</th>\n",
       "      <td>Analog 1</td>\n",
       "      <td>2</td>\n",
       "      <td>300</td>\n",
       "      <td>211.60</td>\n",
       "    </tr>\n",
       "    <tr>\n",
       "      <th>1</th>\n",
       "      <td>Analog 2</td>\n",
       "      <td>1</td>\n",
       "      <td>300</td>\n",
       "      <td>61.33</td>\n",
       "    </tr>\n",
       "    <tr>\n",
       "      <th>2</th>\n",
       "      <td>Analog 3</td>\n",
       "      <td>2</td>\n",
       "      <td>510</td>\n",
       "      <td>153.33</td>\n",
       "    </tr>\n",
       "    <tr>\n",
       "      <th>3</th>\n",
       "      <td>Analog 4</td>\n",
       "      <td>4</td>\n",
       "      <td>150</td>\n",
       "      <td>276.00</td>\n",
       "    </tr>\n",
       "    <tr>\n",
       "      <th>4</th>\n",
       "      <td>Analog 5</td>\n",
       "      <td>2</td>\n",
       "      <td>1000</td>\n",
       "      <td>184.00</td>\n",
       "    </tr>\n",
       "    <tr>\n",
       "      <th>5</th>\n",
       "      <td>Analog 6</td>\n",
       "      <td>2</td>\n",
       "      <td>200</td>\n",
       "      <td>257.60</td>\n",
       "    </tr>\n",
       "    <tr>\n",
       "      <th>6</th>\n",
       "      <td>Analog 7</td>\n",
       "      <td>3</td>\n",
       "      <td>200</td>\n",
       "      <td>276.00</td>\n",
       "    </tr>\n",
       "    <tr>\n",
       "      <th>7</th>\n",
       "      <td>Analog 8</td>\n",
       "      <td>2</td>\n",
       "      <td>400</td>\n",
       "      <td>211.60</td>\n",
       "    </tr>\n",
       "    <tr>\n",
       "      <th>8</th>\n",
       "      <td>Analog 9</td>\n",
       "      <td>3</td>\n",
       "      <td>260</td>\n",
       "      <td>123.85</td>\n",
       "    </tr>\n",
       "    <tr>\n",
       "      <th>9</th>\n",
       "      <td>Analog 10</td>\n",
       "      <td>1</td>\n",
       "      <td>800</td>\n",
       "      <td>73.60</td>\n",
       "    </tr>\n",
       "  </tbody>\n",
       "</table>\n",
       "</div>"
      ],
      "text/plain": [
       "      Object  Place  Square  ValueForSquareMetre\n",
       "0   Analog 1      2     300               211.60\n",
       "1   Analog 2      1     300                61.33\n",
       "2   Analog 3      2     510               153.33\n",
       "3   Analog 4      4     150               276.00\n",
       "4   Analog 5      2    1000               184.00\n",
       "5   Analog 6      2     200               257.60\n",
       "6   Analog 7      3     200               276.00\n",
       "7   Analog 8      2     400               211.60\n",
       "8   Analog 9      3     260               123.85\n",
       "9  Analog 10      1     800                73.60"
      ]
     },
     "execution_count": 408,
     "metadata": {},
     "output_type": "execute_result"
    }
   ],
   "source": [
    "data_fixed.head(10)"
   ]
  },
  {
   "cell_type": "markdown",
   "metadata": {},
   "source": [
    "## Посотрим на корреляция признаков между собой"
   ]
  },
  {
   "cell_type": "code",
   "execution_count": 409,
   "metadata": {},
   "outputs": [
    {
     "data": {
      "text/html": [
       "<div>\n",
       "<style>\n",
       "    .dataframe thead tr:only-child th {\n",
       "        text-align: right;\n",
       "    }\n",
       "\n",
       "    .dataframe thead th {\n",
       "        text-align: left;\n",
       "    }\n",
       "\n",
       "    .dataframe tbody tr th {\n",
       "        vertical-align: top;\n",
       "    }\n",
       "</style>\n",
       "<table border=\"1\" class=\"dataframe\">\n",
       "  <thead>\n",
       "    <tr style=\"text-align: right;\">\n",
       "      <th></th>\n",
       "      <th>Place</th>\n",
       "      <th>Square</th>\n",
       "      <th>ValueForSquareMetre</th>\n",
       "    </tr>\n",
       "  </thead>\n",
       "  <tbody>\n",
       "    <tr>\n",
       "      <th>Place</th>\n",
       "      <td>1.000000</td>\n",
       "      <td>-0.352562</td>\n",
       "      <td>0.551273</td>\n",
       "    </tr>\n",
       "    <tr>\n",
       "      <th>Square</th>\n",
       "      <td>-0.352562</td>\n",
       "      <td>1.000000</td>\n",
       "      <td>-0.237734</td>\n",
       "    </tr>\n",
       "    <tr>\n",
       "      <th>ValueForSquareMetre</th>\n",
       "      <td>0.551273</td>\n",
       "      <td>-0.237734</td>\n",
       "      <td>1.000000</td>\n",
       "    </tr>\n",
       "  </tbody>\n",
       "</table>\n",
       "</div>"
      ],
      "text/plain": [
       "                        Place    Square  ValueForSquareMetre\n",
       "Place                1.000000 -0.352562             0.551273\n",
       "Square              -0.352562  1.000000            -0.237734\n",
       "ValueForSquareMetre  0.551273 -0.237734             1.000000"
      ]
     },
     "execution_count": 409,
     "metadata": {},
     "output_type": "execute_result"
    }
   ],
   "source": [
    "data_fixed.corr()"
   ]
  },
  {
   "cell_type": "markdown",
   "metadata": {},
   "source": [
    "## Создаем лист из чисел(индексация начинается с нуля)"
   ]
  },
  {
   "cell_type": "code",
   "execution_count": 410,
   "metadata": {},
   "outputs": [],
   "source": [
    "#размер листа равен количеству столбцов в матрице в данными\n",
    "list = range(data_fixed.shape[0])"
   ]
  },
  {
   "cell_type": "markdown",
   "metadata": {},
   "source": [
    "## Собственно само тело функции"
   ]
  },
  {
   "cell_type": "code",
   "execution_count": 411,
   "metadata": {
    "scrolled": true
   },
   "outputs": [
    {
     "name": "stdout",
     "output_type": "stream",
     "text": [
      "       Object  Place  Square  ValueForSquareMetre\n",
      "33  Analog 34      2     350               199.77\n",
      "26  Analog 27      3     118               276.00\n",
      "28  Analog 29      3     700               318.06\n",
      "0    Analog 1      2     300               211.60\n",
      "6    Analog 7      3     200               276.00\n",
      "32  Analog 33      3     200               207.00\n",
      "4    Analog 5      2    1000               184.00\n",
      "27  Analog 28      2     315               192.76\n",
      "13  Analog 14      3     215               231.07\n",
      "19  Analog 20      2     300               153.33\n",
      "5    Analog 6      2     200               257.60\n",
      "1    Analog 2      1     300                61.33\n",
      "35  Analog 36      2    2100               138.00\n",
      "22  Analog 23      4      63               292.06\n",
      "30  Analog 31      1     800                74.75\n",
      "31  Analog 32      3     150               276.00\n",
      "16  Analog 17      3      93               346.24\n",
      "                             OLS Regression Results                            \n",
      "===============================================================================\n",
      "Dep. Variable:     ValueForSquareMetre   R-squared:                       0.729\n",
      "Model:                             OLS   Adj. R-squared:                  0.690\n",
      "Method:                  Least Squares   F-statistic:                     18.79\n",
      "Date:                 Thu, 15 Feb 2018   Prob (F-statistic):           0.000108\n",
      "Time:                         19:52:37   Log-Likelihood:                -86.957\n",
      "No. Observations:                   17   AIC:                             179.9\n",
      "Df Residuals:                       14   BIC:                             182.4\n",
      "Df Model:                            2                                         \n",
      "Covariance Type:             nonrobust                                         \n",
      "==============================================================================\n",
      "                 coef    std err          t      P>|t|      [0.025      0.975]\n",
      "------------------------------------------------------------------------------\n",
      "Intercept     34.2535     42.549      0.805      0.434     -57.005     125.512\n",
      "Square        -0.0212      0.024     -0.890      0.389      -0.072       0.030\n",
      "Place         79.7596     15.011      5.313      0.000      47.563     111.956\n",
      "==============================================================================\n",
      "Omnibus:                        0.488   Durbin-Watson:                   1.840\n",
      "Prob(Omnibus):                  0.784   Jarque-Bera (JB):                0.583\n",
      "Skew:                           0.267   Prob(JB):                        0.747\n",
      "Kurtosis:                       2.267   Cond. No.                     2.72e+03\n",
      "==============================================================================\n",
      "\n",
      "Warnings:\n",
      "[1] Standard Errors assume that the covariance matrix of the errors is correctly specified.\n",
      "[2] The condition number is large, 2.72e+03. This might indicate that there are\n",
      "strong multicollinearity or other numerical problems.\n",
      "                                 OLS Regression Results                                \n",
      "=======================================================================================\n",
      "Dep. Variable:     np.log(ValueForSquareMetre)   R-squared:                       0.713\n",
      "Model:                                     OLS   Adj. R-squared:                  0.672\n",
      "Method:                          Least Squares   F-statistic:                     17.42\n",
      "Date:                         Thu, 15 Feb 2018   Prob (F-statistic):           0.000159\n",
      "Time:                                 19:52:37   Log-Likelihood:               -0.40485\n",
      "No. Observations:                           17   AIC:                             6.810\n",
      "Df Residuals:                               14   BIC:                             9.309\n",
      "Df Model:                                    2                                         \n",
      "Covariance Type:                     nonrobust                                         \n",
      "==============================================================================\n",
      "                 coef    std err          t      P>|t|      [0.025      0.975]\n",
      "------------------------------------------------------------------------------\n",
      "Intercept      4.1377      0.262     15.812      0.000       3.577       4.699\n",
      "Square     -6.332e-05      0.000     -0.432      0.672      -0.000       0.000\n",
      "Place          0.4907      0.092      5.316      0.000       0.293       0.689\n",
      "==============================================================================\n",
      "Omnibus:                        0.612   Durbin-Watson:                   2.019\n",
      "Prob(Omnibus):                  0.736   Jarque-Bera (JB):                0.642\n",
      "Skew:                          -0.356   Prob(JB):                        0.726\n",
      "Kurtosis:                       2.368   Cond. No.                     2.72e+03\n",
      "==============================================================================\n",
      "\n",
      "Warnings:\n",
      "[1] Standard Errors assume that the covariance matrix of the errors is correctly specified.\n",
      "[2] The condition number is large, 2.72e+03. This might indicate that there are\n",
      "strong multicollinearity or other numerical problems.\n"
     ]
    }
   ],
   "source": [
    "seed = rn.random()\n",
    "for i in range(100000):\n",
    "    rn.seed(seed)\n",
    "    seed += 1\n",
    "    people_number = rn.randint(15, 25)\n",
    "    combin = rn.sample(list,people_number)\n",
    "    random_dataframe_part = pd.DataFrame(data=data_fixed.ix[combin,])#датафрейм в обучении \n",
    "    m1_part = smf.ols('ValueForSquareMetre ~ Square + Place ', data=random_dataframe_part)\n",
    "    fitted_part = m1_part.fit()\n",
    "    #print(fitted_part.rsquared)#del\n",
    "    #print(fitted.params)\n",
    "    if (fitted_part.rsquared >= 0.7 and fitted_part.params['Place'] > 0 and fitted_part.params['Square'] < 0 and np.all(np.array(fitted_part.params['Intercept'] + fitted_part.params['Square']*test['Square'] + fitted_part.params['Place']*test['Place']).reshape(-1,1) < 1000) and \n",
    "        np.all(np.array(fitted_part.params['Intercept'] + fitted_part.params['Square']*test['Square'] + fitted_part.params['Place']*test['Place']).reshape(-1,1) > 0)):\n",
    "        m2_part = smf.ols('np.log(ValueForSquareMetre) ~ Square + Place', data=random_dataframe_part)\n",
    "        fitted_second_part = m2_part.fit()\n",
    "\n",
    "        if (fitted_second_part.rsquared >= 0.7 and math.exp(fitted_second_part.params['Place']) > 1 and math.exp(fitted_second_part.params['Square']) < 1 and np.all(math.exp(fitted_second_part.params['Intercept'])*  \n",
    "            math.exp(fitted_second_part.params['Square'])**test['Square']*math.exp(fitted_second_part.params['Place'])**test['Place']) < 1000 and\n",
    "            np.all(math.exp(fitted_second_part.params['Intercept'])*math.exp(fitted_second_part.params['Square'])*test['Square']**math.exp(fitted_second_part.params['Place'])**test['Place'])>0):\n",
    "            print(random_dataframe_part)\n",
    "            print(fitted_part.summary())\n",
    "            print(fitted_second_part.summary())\n",
    "            break"
   ]
  },
  {
   "cell_type": "markdown",
   "metadata": {},
   "source": [
    "## Параметры регрессионной модели + расчет для обьекта"
   ]
  },
  {
   "cell_type": "code",
   "execution_count": 412,
   "metadata": {},
   "outputs": [
    {
     "name": "stdout",
     "output_type": "stream",
     "text": [
      "0    263.054368\n",
      "1    267.207449\n",
      "2    273.362909\n",
      "3    265.881006\n",
      "4    236.332683\n",
      "5    266.828163\n",
      "6    261.092250\n",
      "7     94.211140\n",
      "dtype: float64\n"
     ]
    }
   ],
   "source": [
    "print(fitted_part.params['Intercept'] + fitted_part.params['Square']*test['Square'] + fitted_part.params['Place']*test['Place'])"
   ]
  },
  {
   "cell_type": "code",
   "execution_count": 413,
   "metadata": {},
   "outputs": [
    {
     "name": "stdout",
     "output_type": "stream",
     "text": [
      "0    264.708883\n",
      "1    268.014327\n",
      "2    272.989544\n",
      "3    266.954147\n",
      "4    244.394547\n",
      "5    267.710748\n",
      "6    263.161440\n",
      "7    124.177350\n",
      "dtype: float64\n"
     ]
    }
   ],
   "source": [
    "print(math.exp(fitted_second_part.params['Intercept'])*math.exp(fitted_second_part.params['Square'])**test['Square']*math.exp(fitted_second_part.params['Place'])**test['Place']) "
   ]
  },
  {
   "cell_type": "markdown",
   "metadata": {},
   "source": [
    "## Тест Фишера, проверяет нулевую гипотезу о том что все коэффициенты перед признаками в регрессионной модели можно положить равными нулю."
   ]
  },
  {
   "cell_type": "code",
   "execution_count": 414,
   "metadata": {},
   "outputs": [
    {
     "name": "stdout",
     "output_type": "stream",
     "text": [
      "<F test: F=array([[ 8.29226718]]), p=0.00025880274907404523, df_denom=15, df_num=8>\n"
     ]
    }
   ],
   "source": [
    "print(fitted.f_test('Square = Place = Material = Finish = Otd_Vstr = Transport = Otopl = Nazn = 0'))\n",
    "# в данном случае для модели F-статистика Фишера равна 8.2922 - модель значима"
   ]
  },
  {
   "cell_type": "code",
   "execution_count": 415,
   "metadata": {},
   "outputs": [
    {
     "name": "stdout",
     "output_type": "stream",
     "text": [
      "<F test: F=array([[ 1.36927518]]), p=0.2903856324930016, df_denom=15, df_num=5>\n"
     ]
    }
   ],
   "source": [
    "print(fitted.f_test('Place = Material = Finish = Otd_Vstr = Transport = 0'))\n",
    "#на уровне значимости 0.05 можно отвергнуть нулевую гипотезу о том, что модель статистически значима."
   ]
  }
 ],
 "metadata": {
  "anaconda-cloud": {},
  "kernelspec": {
   "display_name": "Python [conda env:py35]",
   "language": "python",
   "name": "conda-env-py35-py"
  },
  "language_info": {
   "codemirror_mode": {
    "name": "ipython",
    "version": 3
   },
   "file_extension": ".py",
   "mimetype": "text/x-python",
   "name": "python",
   "nbconvert_exporter": "python",
   "pygments_lexer": "ipython3",
   "version": "3.5.3"
  }
 },
 "nbformat": 4,
 "nbformat_minor": 1
}
