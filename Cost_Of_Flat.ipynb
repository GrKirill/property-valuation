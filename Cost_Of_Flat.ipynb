{
 "cells": [
  {
   "cell_type": "code",
   "execution_count": 229,
   "metadata": {},
   "outputs": [],
   "source": [
    "import numpy as np\n",
    "import pandas as pd\n",
    "import math\n",
    "import statsmodels.formula.api as smf\n",
    "import statsmodels.stats.api as sms\n",
    "import matplotlib.pyplot as plt\n",
    "from itertools import combinations\n",
    "import random as rn \n",
    "from statsmodels.graphics.regressionplots import plot_leverage_resid2, influence_plot\n",
    "import warnings\n",
    "warnings.filterwarnings('ignore')\n",
    "import matplotlib.pyplot as plt\n",
    "%matplotlib inline"
   ]
  },
  {
   "cell_type": "markdown",
   "metadata": {},
   "source": [
    "### Получаем датафрейм для работы "
   ]
  },
  {
   "cell_type": "code",
   "execution_count": 123,
   "metadata": {
    "collapsed": true
   },
   "outputs": [],
   "source": [
    "data = pd.read_csv('General_Table_3.csv', sep = ';',index_col=False)\n",
    "test = pd.read_csv('General_Table_4.csv', sep = ';',index_col=False)"
   ]
  },
  {
   "cell_type": "code",
   "execution_count": 230,
   "metadata": {},
   "outputs": [
    {
     "data": {
      "text/html": [
       "<div>\n",
       "<style>\n",
       "    .dataframe thead tr:only-child th {\n",
       "        text-align: right;\n",
       "    }\n",
       "\n",
       "    .dataframe thead th {\n",
       "        text-align: left;\n",
       "    }\n",
       "\n",
       "    .dataframe tbody tr th {\n",
       "        vertical-align: top;\n",
       "    }\n",
       "</style>\n",
       "<table border=\"1\" class=\"dataframe\">\n",
       "  <thead>\n",
       "    <tr style=\"text-align: right;\">\n",
       "      <th></th>\n",
       "      <th>Unnamed: 0</th>\n",
       "      <th>Object</th>\n",
       "      <th>Square</th>\n",
       "      <th>Place</th>\n",
       "      <th>Material</th>\n",
       "      <th>Finish</th>\n",
       "      <th>Otd_Vstr</th>\n",
       "      <th>Transport</th>\n",
       "      <th>Otopl</th>\n",
       "      <th>Nazn</th>\n",
       "    </tr>\n",
       "  </thead>\n",
       "  <tbody>\n",
       "    <tr>\n",
       "      <th>0</th>\n",
       "      <td>1</td>\n",
       "      <td>Object 1</td>\n",
       "      <td>494.5</td>\n",
       "      <td>3</td>\n",
       "      <td>1</td>\n",
       "      <td>2</td>\n",
       "      <td>1</td>\n",
       "      <td>5</td>\n",
       "      <td>1</td>\n",
       "      <td>3</td>\n",
       "    </tr>\n",
       "    <tr>\n",
       "      <th>1</th>\n",
       "      <td>2</td>\n",
       "      <td>Object 2</td>\n",
       "      <td>298.5</td>\n",
       "      <td>3</td>\n",
       "      <td>1</td>\n",
       "      <td>2</td>\n",
       "      <td>1</td>\n",
       "      <td>5</td>\n",
       "      <td>1</td>\n",
       "      <td>3</td>\n",
       "    </tr>\n",
       "    <tr>\n",
       "      <th>2</th>\n",
       "      <td>3</td>\n",
       "      <td>Object 3</td>\n",
       "      <td>8.0</td>\n",
       "      <td>3</td>\n",
       "      <td>1</td>\n",
       "      <td>2</td>\n",
       "      <td>1</td>\n",
       "      <td>5</td>\n",
       "      <td>1</td>\n",
       "      <td>1</td>\n",
       "    </tr>\n",
       "    <tr>\n",
       "      <th>3</th>\n",
       "      <td>4</td>\n",
       "      <td>Object 4</td>\n",
       "      <td>361.1</td>\n",
       "      <td>3</td>\n",
       "      <td>1</td>\n",
       "      <td>2</td>\n",
       "      <td>1</td>\n",
       "      <td>5</td>\n",
       "      <td>1</td>\n",
       "      <td>3</td>\n",
       "    </tr>\n",
       "    <tr>\n",
       "      <th>4</th>\n",
       "      <td>5</td>\n",
       "      <td>Object 5</td>\n",
       "      <td>1755.6</td>\n",
       "      <td>3</td>\n",
       "      <td>1</td>\n",
       "      <td>2</td>\n",
       "      <td>1</td>\n",
       "      <td>5</td>\n",
       "      <td>1</td>\n",
       "      <td>3</td>\n",
       "    </tr>\n",
       "    <tr>\n",
       "      <th>5</th>\n",
       "      <td>6</td>\n",
       "      <td>Object 6</td>\n",
       "      <td>316.4</td>\n",
       "      <td>3</td>\n",
       "      <td>1</td>\n",
       "      <td>2</td>\n",
       "      <td>1</td>\n",
       "      <td>5</td>\n",
       "      <td>1</td>\n",
       "      <td>3</td>\n",
       "    </tr>\n",
       "    <tr>\n",
       "      <th>6</th>\n",
       "      <td>7</td>\n",
       "      <td>Object 7</td>\n",
       "      <td>587.1</td>\n",
       "      <td>3</td>\n",
       "      <td>1</td>\n",
       "      <td>2</td>\n",
       "      <td>1</td>\n",
       "      <td>5</td>\n",
       "      <td>1</td>\n",
       "      <td>3</td>\n",
       "    </tr>\n",
       "    <tr>\n",
       "      <th>7</th>\n",
       "      <td>8</td>\n",
       "      <td>Object 8</td>\n",
       "      <td>4698.7</td>\n",
       "      <td>2</td>\n",
       "      <td>1</td>\n",
       "      <td>2</td>\n",
       "      <td>1</td>\n",
       "      <td>3</td>\n",
       "      <td>1</td>\n",
       "      <td>3</td>\n",
       "    </tr>\n",
       "  </tbody>\n",
       "</table>\n",
       "</div>"
      ],
      "text/plain": [
       "   Unnamed: 0    Object  Square  Place  Material  Finish  Otd_Vstr  Transport  \\\n",
       "0           1  Object 1   494.5      3         1       2         1          5   \n",
       "1           2  Object 2   298.5      3         1       2         1          5   \n",
       "2           3  Object 3     8.0      3         1       2         1          5   \n",
       "3           4  Object 4   361.1      3         1       2         1          5   \n",
       "4           5  Object 5  1755.6      3         1       2         1          5   \n",
       "5           6  Object 6   316.4      3         1       2         1          5   \n",
       "6           7  Object 7   587.1      3         1       2         1          5   \n",
       "7           8  Object 8  4698.7      2         1       2         1          3   \n",
       "\n",
       "   Otopl  Nazn  \n",
       "0      1     3  \n",
       "1      1     3  \n",
       "2      1     1  \n",
       "3      1     3  \n",
       "4      1     3  \n",
       "5      1     3  \n",
       "6      1     3  \n",
       "7      1     3  "
      ]
     },
     "execution_count": 230,
     "metadata": {},
     "output_type": "execute_result"
    }
   ],
   "source": [
    "#объекты, для которых нужно построить предсказательную модель\n",
    "test"
   ]
  },
  {
   "cell_type": "code",
   "execution_count": 224,
   "metadata": {
    "scrolled": true
   },
   "outputs": [
    {
     "data": {
      "text/html": [
       "<div>\n",
       "<style>\n",
       "    .dataframe thead tr:only-child th {\n",
       "        text-align: right;\n",
       "    }\n",
       "\n",
       "    .dataframe thead th {\n",
       "        text-align: left;\n",
       "    }\n",
       "\n",
       "    .dataframe tbody tr th {\n",
       "        vertical-align: top;\n",
       "    }\n",
       "</style>\n",
       "<table border=\"1\" class=\"dataframe\">\n",
       "  <thead>\n",
       "    <tr style=\"text-align: right;\">\n",
       "      <th></th>\n",
       "      <th>Unnamed: 0</th>\n",
       "      <th>Object</th>\n",
       "      <th>Square</th>\n",
       "      <th>Place</th>\n",
       "      <th>Material</th>\n",
       "      <th>Finish</th>\n",
       "      <th>Otd_Vstr</th>\n",
       "      <th>Transport</th>\n",
       "      <th>Otopl</th>\n",
       "      <th>Nazn</th>\n",
       "      <th>ValueForSquareMetre</th>\n",
       "    </tr>\n",
       "  </thead>\n",
       "  <tbody>\n",
       "    <tr>\n",
       "      <th>0</th>\n",
       "      <td>1</td>\n",
       "      <td>Analog 1</td>\n",
       "      <td>300</td>\n",
       "      <td>2</td>\n",
       "      <td>1</td>\n",
       "      <td>3</td>\n",
       "      <td>1</td>\n",
       "      <td>3</td>\n",
       "      <td>1</td>\n",
       "      <td>3</td>\n",
       "      <td>211.60</td>\n",
       "    </tr>\n",
       "    <tr>\n",
       "      <th>1</th>\n",
       "      <td>2</td>\n",
       "      <td>Analog 2</td>\n",
       "      <td>300</td>\n",
       "      <td>1</td>\n",
       "      <td>0</td>\n",
       "      <td>1</td>\n",
       "      <td>1</td>\n",
       "      <td>1</td>\n",
       "      <td>0</td>\n",
       "      <td>2</td>\n",
       "      <td>61.33</td>\n",
       "    </tr>\n",
       "    <tr>\n",
       "      <th>2</th>\n",
       "      <td>3</td>\n",
       "      <td>Analog 3</td>\n",
       "      <td>510</td>\n",
       "      <td>2</td>\n",
       "      <td>1</td>\n",
       "      <td>2</td>\n",
       "      <td>1</td>\n",
       "      <td>1</td>\n",
       "      <td>1</td>\n",
       "      <td>3</td>\n",
       "      <td>153.33</td>\n",
       "    </tr>\n",
       "    <tr>\n",
       "      <th>3</th>\n",
       "      <td>4</td>\n",
       "      <td>Analog 4</td>\n",
       "      <td>150</td>\n",
       "      <td>4</td>\n",
       "      <td>1</td>\n",
       "      <td>1</td>\n",
       "      <td>0</td>\n",
       "      <td>4</td>\n",
       "      <td>1</td>\n",
       "      <td>2</td>\n",
       "      <td>276.00</td>\n",
       "    </tr>\n",
       "    <tr>\n",
       "      <th>4</th>\n",
       "      <td>5</td>\n",
       "      <td>Analog 5</td>\n",
       "      <td>1000</td>\n",
       "      <td>2</td>\n",
       "      <td>0</td>\n",
       "      <td>2</td>\n",
       "      <td>1</td>\n",
       "      <td>2</td>\n",
       "      <td>1</td>\n",
       "      <td>2</td>\n",
       "      <td>184.00</td>\n",
       "    </tr>\n",
       "  </tbody>\n",
       "</table>\n",
       "</div>"
      ],
      "text/plain": [
       "   Unnamed: 0    Object  Square  Place  Material  Finish  Otd_Vstr  Transport  \\\n",
       "0           1  Analog 1     300      2         1       3         1          3   \n",
       "1           2  Analog 2     300      1         0       1         1          1   \n",
       "2           3  Analog 3     510      2         1       2         1          1   \n",
       "3           4  Analog 4     150      4         1       1         0          4   \n",
       "4           5  Analog 5    1000      2         0       2         1          2   \n",
       "\n",
       "   Otopl  Nazn  ValueForSquareMetre  \n",
       "0      1     3               211.60  \n",
       "1      0     2                61.33  \n",
       "2      1     3               153.33  \n",
       "3      1     2               276.00  \n",
       "4      1     2               184.00  "
      ]
     },
     "execution_count": 224,
     "metadata": {},
     "output_type": "execute_result"
    }
   ],
   "source": [
    "#что представляют собой данные\n",
    "data.head(5)"
   ]
  },
  {
   "cell_type": "code",
   "execution_count": 102,
   "metadata": {},
   "outputs": [
    {
     "data": {
      "text/plain": [
       "(39, 11)"
      ]
     },
     "execution_count": 102,
     "metadata": {},
     "output_type": "execute_result"
    }
   ],
   "source": [
    "#data[0] - количество аналогов, data[1] - количество признаков\n",
    "data.shape"
   ]
  },
  {
   "cell_type": "code",
   "execution_count": 103,
   "metadata": {
    "scrolled": false
   },
   "outputs": [
    {
     "data": {
      "text/html": [
       "<div>\n",
       "<style>\n",
       "    .dataframe thead tr:only-child th {\n",
       "        text-align: right;\n",
       "    }\n",
       "\n",
       "    .dataframe thead th {\n",
       "        text-align: left;\n",
       "    }\n",
       "\n",
       "    .dataframe tbody tr th {\n",
       "        vertical-align: top;\n",
       "    }\n",
       "</style>\n",
       "<table border=\"1\" class=\"dataframe\">\n",
       "  <thead>\n",
       "    <tr style=\"text-align: right;\">\n",
       "      <th></th>\n",
       "      <th>Unnamed: 0</th>\n",
       "      <th>Square</th>\n",
       "      <th>Place</th>\n",
       "      <th>Material</th>\n",
       "      <th>Finish</th>\n",
       "      <th>Otd_Vstr</th>\n",
       "      <th>Transport</th>\n",
       "      <th>Otopl</th>\n",
       "      <th>Nazn</th>\n",
       "      <th>ValueForSquareMetre</th>\n",
       "    </tr>\n",
       "  </thead>\n",
       "  <tbody>\n",
       "    <tr>\n",
       "      <th>Unnamed: 0</th>\n",
       "      <td>1.000000</td>\n",
       "      <td>0.138855</td>\n",
       "      <td>0.103908</td>\n",
       "      <td>0.309409</td>\n",
       "      <td>-0.071561</td>\n",
       "      <td>-0.068551</td>\n",
       "      <td>0.153542</td>\n",
       "      <td>-0.071240</td>\n",
       "      <td>-0.271584</td>\n",
       "      <td>-0.089716</td>\n",
       "    </tr>\n",
       "    <tr>\n",
       "      <th>Square</th>\n",
       "      <td>0.138855</td>\n",
       "      <td>1.000000</td>\n",
       "      <td>-0.352562</td>\n",
       "      <td>0.054654</td>\n",
       "      <td>-0.122120</td>\n",
       "      <td>0.259241</td>\n",
       "      <td>-0.302166</td>\n",
       "      <td>-0.157061</td>\n",
       "      <td>-0.026056</td>\n",
       "      <td>-0.237734</td>\n",
       "    </tr>\n",
       "    <tr>\n",
       "      <th>Place</th>\n",
       "      <td>0.103908</td>\n",
       "      <td>-0.352562</td>\n",
       "      <td>1.000000</td>\n",
       "      <td>0.075378</td>\n",
       "      <td>0.177967</td>\n",
       "      <td>-0.109109</td>\n",
       "      <td>0.861164</td>\n",
       "      <td>0.259851</td>\n",
       "      <td>0.102379</td>\n",
       "      <td>0.551273</td>\n",
       "    </tr>\n",
       "    <tr>\n",
       "      <th>Material</th>\n",
       "      <td>0.309409</td>\n",
       "      <td>0.054654</td>\n",
       "      <td>0.075378</td>\n",
       "      <td>1.000000</td>\n",
       "      <td>0.050082</td>\n",
       "      <td>-0.252215</td>\n",
       "      <td>0.136843</td>\n",
       "      <td>0.170941</td>\n",
       "      <td>0.308683</td>\n",
       "      <td>0.322106</td>\n",
       "    </tr>\n",
       "    <tr>\n",
       "      <th>Finish</th>\n",
       "      <td>-0.071561</td>\n",
       "      <td>-0.122120</td>\n",
       "      <td>0.177967</td>\n",
       "      <td>0.050082</td>\n",
       "      <td>1.000000</td>\n",
       "      <td>0.041425</td>\n",
       "      <td>0.236930</td>\n",
       "      <td>0.390138</td>\n",
       "      <td>0.346585</td>\n",
       "      <td>0.401459</td>\n",
       "    </tr>\n",
       "    <tr>\n",
       "      <th>Otd_Vstr</th>\n",
       "      <td>-0.068551</td>\n",
       "      <td>0.259241</td>\n",
       "      <td>-0.109109</td>\n",
       "      <td>-0.252215</td>\n",
       "      <td>0.041425</td>\n",
       "      <td>1.000000</td>\n",
       "      <td>-0.066026</td>\n",
       "      <td>-0.298985</td>\n",
       "      <td>0.153903</td>\n",
       "      <td>-0.371054</td>\n",
       "    </tr>\n",
       "    <tr>\n",
       "      <th>Transport</th>\n",
       "      <td>0.153542</td>\n",
       "      <td>-0.302166</td>\n",
       "      <td>0.861164</td>\n",
       "      <td>0.136843</td>\n",
       "      <td>0.236930</td>\n",
       "      <td>-0.066026</td>\n",
       "      <td>1.000000</td>\n",
       "      <td>0.271608</td>\n",
       "      <td>0.227163</td>\n",
       "      <td>0.567327</td>\n",
       "    </tr>\n",
       "    <tr>\n",
       "      <th>Otopl</th>\n",
       "      <td>-0.071240</td>\n",
       "      <td>-0.157061</td>\n",
       "      <td>0.259851</td>\n",
       "      <td>0.170941</td>\n",
       "      <td>0.390138</td>\n",
       "      <td>-0.298985</td>\n",
       "      <td>0.271608</td>\n",
       "      <td>1.000000</td>\n",
       "      <td>0.296665</td>\n",
       "      <td>0.670720</td>\n",
       "    </tr>\n",
       "    <tr>\n",
       "      <th>Nazn</th>\n",
       "      <td>-0.271584</td>\n",
       "      <td>-0.026056</td>\n",
       "      <td>0.102379</td>\n",
       "      <td>0.308683</td>\n",
       "      <td>0.346585</td>\n",
       "      <td>0.153903</td>\n",
       "      <td>0.227163</td>\n",
       "      <td>0.296665</td>\n",
       "      <td>1.000000</td>\n",
       "      <td>0.382345</td>\n",
       "    </tr>\n",
       "    <tr>\n",
       "      <th>ValueForSquareMetre</th>\n",
       "      <td>-0.089716</td>\n",
       "      <td>-0.237734</td>\n",
       "      <td>0.551273</td>\n",
       "      <td>0.322106</td>\n",
       "      <td>0.401459</td>\n",
       "      <td>-0.371054</td>\n",
       "      <td>0.567327</td>\n",
       "      <td>0.670720</td>\n",
       "      <td>0.382345</td>\n",
       "      <td>1.000000</td>\n",
       "    </tr>\n",
       "  </tbody>\n",
       "</table>\n",
       "</div>"
      ],
      "text/plain": [
       "                     Unnamed: 0    Square     Place  Material    Finish  \\\n",
       "Unnamed: 0             1.000000  0.138855  0.103908  0.309409 -0.071561   \n",
       "Square                 0.138855  1.000000 -0.352562  0.054654 -0.122120   \n",
       "Place                  0.103908 -0.352562  1.000000  0.075378  0.177967   \n",
       "Material               0.309409  0.054654  0.075378  1.000000  0.050082   \n",
       "Finish                -0.071561 -0.122120  0.177967  0.050082  1.000000   \n",
       "Otd_Vstr              -0.068551  0.259241 -0.109109 -0.252215  0.041425   \n",
       "Transport              0.153542 -0.302166  0.861164  0.136843  0.236930   \n",
       "Otopl                 -0.071240 -0.157061  0.259851  0.170941  0.390138   \n",
       "Nazn                  -0.271584 -0.026056  0.102379  0.308683  0.346585   \n",
       "ValueForSquareMetre   -0.089716 -0.237734  0.551273  0.322106  0.401459   \n",
       "\n",
       "                     Otd_Vstr  Transport     Otopl      Nazn  \\\n",
       "Unnamed: 0          -0.068551   0.153542 -0.071240 -0.271584   \n",
       "Square               0.259241  -0.302166 -0.157061 -0.026056   \n",
       "Place               -0.109109   0.861164  0.259851  0.102379   \n",
       "Material            -0.252215   0.136843  0.170941  0.308683   \n",
       "Finish               0.041425   0.236930  0.390138  0.346585   \n",
       "Otd_Vstr             1.000000  -0.066026 -0.298985  0.153903   \n",
       "Transport           -0.066026   1.000000  0.271608  0.227163   \n",
       "Otopl               -0.298985   0.271608  1.000000  0.296665   \n",
       "Nazn                 0.153903   0.227163  0.296665  1.000000   \n",
       "ValueForSquareMetre -0.371054   0.567327  0.670720  0.382345   \n",
       "\n",
       "                     ValueForSquareMetre  \n",
       "Unnamed: 0                     -0.089716  \n",
       "Square                         -0.237734  \n",
       "Place                           0.551273  \n",
       "Material                        0.322106  \n",
       "Finish                          0.401459  \n",
       "Otd_Vstr                       -0.371054  \n",
       "Transport                       0.567327  \n",
       "Otopl                           0.670720  \n",
       "Nazn                            0.382345  \n",
       "ValueForSquareMetre             1.000000  "
      ]
     },
     "execution_count": 103,
     "metadata": {},
     "output_type": "execute_result"
    }
   ],
   "source": [
    "#таблица корреляций признаков между собой\n",
    "data.corr()"
   ]
  },
  {
   "cell_type": "markdown",
   "metadata": {},
   "source": [
    "# Работа со всеми признаками "
   ]
  },
  {
   "cell_type": "code",
   "execution_count": 312,
   "metadata": {
    "collapsed": true
   },
   "outputs": [],
   "source": [
    "#размер листа равен количеству столбцов в матрице в данными\n",
    "list = range(data.shape[0])"
   ]
  },
  {
   "cell_type": "code",
   "execution_count": 313,
   "metadata": {},
   "outputs": [
    {
     "name": "stdout",
     "output_type": "stream",
     "text": [
      "    Unnamed: 0     Object  Square  Place  Material  Finish  Otd_Vstr  \\\n",
      "36          37  Analog 37     315      2         1       1         0   \n",
      "8            9   Analog 9     260      3         0       2         1   \n",
      "0            1   Analog 1     300      2         1       3         1   \n",
      "25          26  Analog 26     250      3         1       1         1   \n",
      "10          11  Analog 11      84      2         1       1         1   \n",
      "7            8   Analog 8     400      2         1       2         0   \n",
      "33          34  Analog 34     350      2         1       3         0   \n",
      "20          21  Analog 21    1000      3         1       2         1   \n",
      "17          18  Analog 18     450      1         0       1         1   \n",
      "29          30  Analog 30     350      2         1       3         0   \n",
      "13          14  Analog 14     215      3         1       2         0   \n",
      "9           10  Analog 10     800      1         1       2         1   \n",
      "19          20  Analog 20     300      2         1       2         0   \n",
      "30          31  Analog 31     800      1         1       1         0   \n",
      "11          12  Analog 12     200      4         0       2         0   \n",
      "27          28  Analog 28     315      2         1       1         0   \n",
      "38          39  Analog 39     800      2         1       3         1   \n",
      "6            7   Analog 7     200      3         1       3         1   \n",
      "18          19  Analog 19      70      4         1       1         0   \n",
      "22          23  Analog 23      63      4         1       3         1   \n",
      "3            4   Analog 4     150      4         1       1         0   \n",
      "14          15  Analog 15     300      3         1       2         0   \n",
      "4            5   Analog 5    1000      2         0       2         1   \n",
      "16          17  Analog 17      93      3         1       3         1   \n",
      "\n",
      "    Transport  Otopl  Nazn  ValueForSquareMetre  \n",
      "36          1      1     1               192.76  \n",
      "8           3      0     1               123.85  \n",
      "0           3      1     3               211.60  \n",
      "25          5      0     1               110.40  \n",
      "10          3      1     2               240.95  \n",
      "7           3      1     3               211.60  \n",
      "33          3      1     1               199.77  \n",
      "20          5      1     3               184.00  \n",
      "17          1      1     1                92.00  \n",
      "29          3      1     1               199.77  \n",
      "13          4      1     1               231.07  \n",
      "9           1      0     3                73.60  \n",
      "19          2      1     2               153.33  \n",
      "30          1      0     2                74.75  \n",
      "11          5      1     2               230.00  \n",
      "27          1      1     1               192.76  \n",
      "38          2      1     3               174.80  \n",
      "6           3      1     3               276.00  \n",
      "18          5      1     2               276.00  \n",
      "22          5      1     3               292.06  \n",
      "3           4      1     2               276.00  \n",
      "14          3      1     2               153.33  \n",
      "4           2      1     2               184.00  \n",
      "16          5      1     3               346.24  \n",
      "                             OLS Regression Results                            \n",
      "===============================================================================\n",
      "Dep. Variable:     ValueForSquareMetre   R-squared:                       0.816\n",
      "Model:                             OLS   Adj. R-squared:                  0.717\n",
      "Method:                  Least Squares   F-statistic:                     8.292\n",
      "Date:                 Mon, 05 Feb 2018   Prob (F-statistic):           0.000259\n",
      "Time:                         16:31:49   Log-Likelihood:                -115.29\n",
      "No. Observations:                   24   AIC:                             248.6\n",
      "Df Residuals:                       15   BIC:                             259.2\n",
      "Df Model:                            8                                         \n",
      "Covariance Type:             nonrobust                                         \n",
      "==============================================================================\n",
      "                 coef    std err          t      P>|t|      [0.025      0.975]\n",
      "------------------------------------------------------------------------------\n",
      "Intercept     26.6013     48.045      0.554      0.588     -75.804     129.007\n",
      "Square        -0.0777      0.037     -2.124      0.051      -0.156       0.000\n",
      "Place         20.9870     18.722      1.121      0.280     -18.918      60.892\n",
      "Material      19.2875     25.001      0.771      0.452     -34.000      72.575\n",
      "Finish         5.9234     11.546      0.513      0.615     -18.687      30.534\n",
      "Otd_Vstr      10.1836     20.248      0.503      0.622     -32.973      53.340\n",
      "Transport      4.0909     11.172      0.366      0.719     -19.722      27.904\n",
      "Otopl         84.3074     23.369      3.608      0.003      34.497     134.118\n",
      "Nazn          15.3327     13.282      1.154      0.266     -12.976      43.642\n",
      "==============================================================================\n",
      "Omnibus:                        1.091   Durbin-Watson:                   2.137\n",
      "Prob(Omnibus):                  0.580   Jarque-Bera (JB):                0.272\n",
      "Skew:                          -0.213   Prob(JB):                        0.873\n",
      "Kurtosis:                       3.301   Cond. No.                     3.28e+03\n",
      "==============================================================================\n",
      "\n",
      "Warnings:\n",
      "[1] Standard Errors assume that the covariance matrix of the errors is correctly specified.\n",
      "[2] The condition number is large, 3.28e+03. This might indicate that there are\n",
      "strong multicollinearity or other numerical problems.\n",
      "                                 OLS Regression Results                                \n",
      "=======================================================================================\n",
      "Dep. Variable:     np.log(ValueForSquareMetre)   R-squared:                       0.858\n",
      "Model:                                     OLS   Adj. R-squared:                  0.783\n",
      "Method:                          Least Squares   F-statistic:                     11.36\n",
      "Date:                         Mon, 05 Feb 2018   Prob (F-statistic):           4.08e-05\n",
      "Time:                                 16:31:49   Log-Likelihood:                 11.040\n",
      "No. Observations:                           24   AIC:                            -4.079\n",
      "Df Residuals:                               15   BIC:                             6.523\n",
      "Df Model:                                    8                                         \n",
      "Covariance Type:                     nonrobust                                         \n",
      "==============================================================================\n",
      "                 coef    std err          t      P>|t|      [0.025      0.975]\n",
      "------------------------------------------------------------------------------\n",
      "Intercept      4.0729      0.249     16.378      0.000       3.543       4.603\n",
      "Square        -0.0003      0.000     -1.598      0.131      -0.001       0.000\n",
      "Place          0.1591      0.097      1.642      0.121      -0.047       0.366\n",
      "Material       0.1352      0.129      1.044      0.313      -0.141       0.411\n",
      "Finish         0.0563      0.060      0.943      0.361      -0.071       0.184\n",
      "Otd_Vstr       0.0605      0.105      0.578      0.572      -0.163       0.284\n",
      "Transport      0.0127      0.058      0.219      0.829      -0.111       0.136\n",
      "Otopl          0.6127      0.121      5.065      0.000       0.355       0.871\n",
      "Nazn           0.0225      0.069      0.328      0.748      -0.124       0.169\n",
      "==============================================================================\n",
      "Omnibus:                        3.385   Durbin-Watson:                   2.086\n",
      "Prob(Omnibus):                  0.184   Jarque-Bera (JB):                2.028\n",
      "Skew:                          -0.694   Prob(JB):                        0.363\n",
      "Kurtosis:                       3.318   Cond. No.                     3.28e+03\n",
      "==============================================================================\n",
      "\n",
      "Warnings:\n",
      "[1] Standard Errors assume that the covariance matrix of the errors is correctly specified.\n",
      "[2] The condition number is large, 3.28e+03. This might indicate that there are\n",
      "strong multicollinearity or other numerical problems.\n"
     ]
    }
   ],
   "source": [
    "rn.seed(5)\n",
    "for i in range(10000):#сколько регрессионных моделей будет построено\n",
    "    people_number = rn.randint(20, 27) #количество аналогов в каждой из построенных моделей\n",
    "    combin = rn.sample(list,people_number) #комбинация из people_number аналогов (рандомные позиции в исходном датафрейме)\n",
    "    random_dataframe = pd.DataFrame(data=data.ix[combin,])# составленный датафрейм поданный на обучение\n",
    "    m1 = smf.ols('ValueForSquareMetre ~ Square + Place + Material + Finish + Otd_Vstr + Transport + Otopl + Nazn', data=random_dataframe)\n",
    "    fitted = m1.fit()\n",
    "    if (fitted.rsquared >= 0.8 and fitted.params['Square'] < 0 and fitted.params['Place'] > 0 and fitted.params['Material'] > 0 and \n",
    "        fitted.params['Transport'] > 0 and fitted.params['Otopl'] > 0 and fitted.params['Finish'] > 0 and fitted.params['Nazn'] > 0 and\n",
    "        fitted.params['Otd_Vstr'] > 0 and np.all(np.array(fitted.params['Intercept'] + fitted.params['Square']*test['Square'] + fitted.params['Place']*test['Place'] + \n",
    "        fitted.params['Material']*test['Material'] + fitted.params['Transport']*test['Transport'] + fitted.params['Otopl']*test['Otopl'] + fitted.params['Nazn']*test['Nazn'] + fitted.params['Finish']*test['Finish'] + \n",
    "        fitted.params['Otd_Vstr']*test['Otd_Vstr']).reshape(-1,1) < 270) and np.all(np.array(fitted.params['Intercept'] + fitted.params['Square']*test['Square'] + fitted.params['Place']*test['Place'] + \n",
    "        fitted.params['Material']*test['Material'] + fitted.params['Transport']*test['Transport'] + fitted.params['Otopl']*test['Otopl'] + fitted.params['Nazn']*test['Nazn'] + fitted.params['Finish']*test['Finish'] + \n",
    "        fitted.params['Otd_Vstr']*test['Otd_Vstr']).reshape(-1,1)) > 0):\n",
    "        m2 = smf.ols('np.log(ValueForSquareMetre) ~ Square + Place + Material + Finish + Otd_Vstr + Transport + Otopl + Nazn', data=random_dataframe)\n",
    "        fitted_second = m2.fit()\n",
    "        if (fitted_second.rsquared >= 0.7 and math.exp(fitted_second.params['Square']) < 1 and math.exp(fitted_second.params['Place']) > 1 \n",
    "            and math.exp(fitted_second.params['Material']) > 1 and math.exp(fitted_second.params['Transport']) > 1 and \n",
    "            math.exp(fitted_second.params['Otopl']) > 1 and math.exp(fitted_second.params['Finish']) > 1 and math.exp(fitted_second.params['Nazn']) > 1 and\n",
    "            math.exp(fitted_second.params['Otd_Vstr']) > 1 and np.all(math.exp(fitted_second.params['Intercept'])*  \n",
    "            math.exp(fitted_second.params['Square'])**test['Square'] * math.exp(fitted_second.params['Place'])**test['Place'] * \n",
    "            math.exp(fitted_second.params['Material'])**test['Material'] * math.exp(fitted_second.params['Transport'])**test['Transport'] * \n",
    "            math.exp(fitted_second.params['Otopl'])**test['Otopl'] * math.exp(fitted_second.params['Nazn'])**test['Nazn'] * \n",
    "            math.exp(fitted_second.params['Finish'])**test['Finish'] * math.exp(fitted_second.params['Otd_Vstr'])**test['Otd_Vstr']) < 250 and np.all(math.exp(fitted_second.params['Intercept'])*  \n",
    "            math.exp(fitted_second.params['Square'])**test['Square'] * math.exp(fitted_second.params['Place'])**test['Place'] * \n",
    "            math.exp(fitted_second.params['Material'])**test['Material'] * math.exp(fitted_second.params['Transport'])**test['Transport'] * \n",
    "            math.exp(fitted_second.params['Otopl'])**test['Otopl'] * math.exp(fitted_second.params['Nazn'])**test['Nazn'] * \n",
    "            math.exp(fitted_second.params['Finish'])**test['Finish'] * math.exp(fitted_second.params['Otd_Vstr'])**test['Otd_Vstr']) > 0):\n",
    "            print(random_dataframe)\n",
    "            print(fitted.summary())\n",
    "            print(fitted_second.summary())\n",
    "            break"
   ]
  },
  {
   "cell_type": "code",
   "execution_count": 314,
   "metadata": {},
   "outputs": [
    {
     "data": {
      "text/plain": [
       "(24,)"
      ]
     },
     "execution_count": 314,
     "metadata": {},
     "output_type": "execute_result"
    }
   ],
   "source": [
    "#количество аналогов в построенной модели\n",
    "random_dataframe['Object'].shape"
   ]
  },
  {
   "cell_type": "code",
   "execution_count": 315,
   "metadata": {},
   "outputs": [
    {
     "name": "stdout",
     "output_type": "stream",
     "text": [
      "0    243.230231\n",
      "1    258.454420\n",
      "2    250.353411\n",
      "3    253.592000\n",
      "4    145.275001\n",
      "5    257.064048\n",
      "6    236.037578\n",
      "7   -112.497436\n",
      "dtype: float64\n"
     ]
    }
   ],
   "source": [
    "# предсказания по линейной модели\n",
    "print(fitted.params['Intercept'] + fitted.params['Square']*test['Square'] + fitted.params['Transport']*test['Transport'] + \n",
    "      fitted.params['Place']*test['Place'] + fitted.params['Material']*test['Material'] + \n",
    "      fitted.params['Otopl']*test['Otopl']+ fitted.params['Nazn']*test['Nazn'] +\n",
    "      fitted.params['Finish']*test['Finish'] + fitted.params['Otd_Vstr']*test['Otd_Vstr'])"
   ]
  },
  {
   "cell_type": "code",
   "execution_count": 348,
   "metadata": {},
   "outputs": [
    {
     "name": "stdout",
     "output_type": "stream",
     "text": [
      "0    233.407417\n",
      "1    247.663493\n",
      "2    258.494820\n",
      "3    243.018093\n",
      "4    159.386501\n",
      "5    246.326183\n",
      "6    226.960536\n",
      "7     54.412589\n",
      "dtype: float64\n"
     ]
    }
   ],
   "source": [
    "#предсказания по экспоненциальной модели\n",
    "print(math.exp(fitted_second.params['Intercept'])*math.exp(fitted_second.params['Square'])**test['Square']*math.exp(fitted_second.params['Transport'])**test['Transport']*math.exp(fitted_second.params['Place'])**test['Place']*math.exp(fitted_second.params['Material'])**test['Material']*math.exp(fitted_second.params['Otopl'])**test['Otopl']*math.exp(fitted_second.params['Nazn'])**test['Nazn']*math.exp(fitted_second.params['Finish'])**test['Finish']*math.exp(fitted_second.params['Otd_Vstr'])**test['Otd_Vstr']) "
   ]
  },
  {
   "cell_type": "markdown",
   "metadata": {},
   "source": [
    "Посмотрим на наблюдения, которые сильно влияют на регрессионное уравнение --> это индексы аналогов(т.е. чтобы получить сами аналоги нужно к индексу прибавить 1)"
   ]
  },
  {
   "cell_type": "code",
   "execution_count": 319,
   "metadata": {},
   "outputs": [
    {
     "data": {
      "text/plain": [
       "<matplotlib.figure.Figure at 0x11551ee10>"
      ]
     },
     "metadata": {},
     "output_type": "display_data"
    },
    {
     "data": {
      "image/png": "[encoded data removed]",
      "text/plain": [
       "<matplotlib.figure.Figure at 0x11551eb70>"
      ]
     },
     "metadata": {},
     "output_type": "display_data"
    }
   ],
   "source": [
    "plt.figure(figsize(12,11))\n",
    "influence_plot(fitted, alpha=1)\n",
    "pylab.show()"
   ]
  },
  {
   "cell_type": "code",
   "execution_count": 321,
   "metadata": {
    "collapsed": true
   },
   "outputs": [],
   "source": [
    "#сохранить результаты в файл analogs.txt\n",
    "np.savetxt(r'./analogs.txt', random_dataframe['Object'], fmt='%5s')"
   ]
  },
  {
   "cell_type": "markdown",
   "metadata": {},
   "source": [
    "###  Попытка уменьшение размерности исходных даных\n"
   ]
  },
  {
   "cell_type": "code",
   "execution_count": 323,
   "metadata": {},
   "outputs": [
    {
     "data": {
      "text/plain": [
       "PCA(copy=True, iterated_power='auto', n_components=8, random_state=None,\n",
       "  svd_solver='auto', tol=0.0, whiten=False)"
      ]
     },
     "execution_count": 323,
     "metadata": {},
     "output_type": "execute_result"
    }
   ],
   "source": [
    "from sklearn.decomposition import PCA\n",
    "pca = PCA(n_components=8)\n",
    "pca.fit(data.iloc[:,2:-1])"
   ]
  },
  {
   "cell_type": "code",
   "execution_count": 324,
   "metadata": {},
   "outputs": [
    {
     "data": {
      "text/plain": [
       "array([  9.99987710e-01,   7.56723465e-06,   2.05582649e-06,\n",
       "         1.06471913e-06,   7.07723373e-07,   4.29758033e-07,\n",
       "         2.59863621e-07,   2.04716800e-07])"
      ]
     },
     "execution_count": 324,
     "metadata": {},
     "output_type": "execute_result"
    }
   ],
   "source": [
    "pca.explained_variance_ratio_"
   ]
  },
  {
   "cell_type": "markdown",
   "metadata": {},
   "source": [
    "Видим что одна площадь объясняет почти всю дисперсию данных"
   ]
  },
  {
   "cell_type": "code",
   "execution_count": 354,
   "metadata": {},
   "outputs": [
    {
     "name": "stdout",
     "output_type": "stream",
     "text": [
      "0    50.566624\n",
      "1    53.655135\n",
      "2    58.583125\n",
      "3    52.648731\n",
      "4    34.530339\n",
      "5    53.365414\n",
      "6    49.169937\n",
      "7    14.176973\n",
      "Name: Square, dtype: float64\n"
     ]
    }
   ],
   "source": [
    "m_pca = smf.ols('np.log(ValueForSquareMetre) ~ Square', data=data[['ValueForSquareMetre', 'Square']])\n",
    "fitted_pca = m_pca.fit()\n",
    "print(math.exp(fitted_second.params['Intercept'])*math.exp(fitted_second.params['Square'])**test['Square'])"
   ]
  },
  {
   "cell_type": "markdown",
   "metadata": {},
   "source": [
    "# Работа с частью признаков"
   ]
  },
  {
   "cell_type": "code",
   "execution_count": 305,
   "metadata": {
    "collapsed": true
   },
   "outputs": [],
   "source": [
    "def transform(data):\n",
    "    list_of_features = []\n",
    "    column = None\n",
    "    for _ in range(100):\n",
    "        column = input(\"Enter feature \")\n",
    "        if (column != 'end'):\n",
    "            list_of_features.append(column)\n",
    "            data_fixed = data[list_of_features]\n",
    "        else:\n",
    "            break\n",
    "    return data_fixed"
   ]
  },
  {
   "cell_type": "code",
   "execution_count": 306,
   "metadata": {},
   "outputs": [
    {
     "data": {
      "text/html": [
       "<div>\n",
       "<style>\n",
       "    .dataframe thead tr:only-child th {\n",
       "        text-align: right;\n",
       "    }\n",
       "\n",
       "    .dataframe thead th {\n",
       "        text-align: left;\n",
       "    }\n",
       "\n",
       "    .dataframe tbody tr th {\n",
       "        vertical-align: top;\n",
       "    }\n",
       "</style>\n",
       "<table border=\"1\" class=\"dataframe\">\n",
       "  <thead>\n",
       "    <tr style=\"text-align: right;\">\n",
       "      <th></th>\n",
       "      <th>Unnamed: 0</th>\n",
       "      <th>Object</th>\n",
       "      <th>Square</th>\n",
       "      <th>Place</th>\n",
       "      <th>Material</th>\n",
       "      <th>Finish</th>\n",
       "      <th>Otd_Vstr</th>\n",
       "      <th>Transport</th>\n",
       "      <th>Otopl</th>\n",
       "      <th>Nazn</th>\n",
       "      <th>ValueForSquareMetre</th>\n",
       "    </tr>\n",
       "  </thead>\n",
       "  <tbody>\n",
       "    <tr>\n",
       "      <th>0</th>\n",
       "      <td>1</td>\n",
       "      <td>Analog 1</td>\n",
       "      <td>300</td>\n",
       "      <td>2</td>\n",
       "      <td>1</td>\n",
       "      <td>3</td>\n",
       "      <td>1</td>\n",
       "      <td>3</td>\n",
       "      <td>1</td>\n",
       "      <td>3</td>\n",
       "      <td>211.60</td>\n",
       "    </tr>\n",
       "    <tr>\n",
       "      <th>1</th>\n",
       "      <td>2</td>\n",
       "      <td>Analog 2</td>\n",
       "      <td>300</td>\n",
       "      <td>1</td>\n",
       "      <td>0</td>\n",
       "      <td>1</td>\n",
       "      <td>1</td>\n",
       "      <td>1</td>\n",
       "      <td>0</td>\n",
       "      <td>2</td>\n",
       "      <td>61.33</td>\n",
       "    </tr>\n",
       "    <tr>\n",
       "      <th>2</th>\n",
       "      <td>3</td>\n",
       "      <td>Analog 3</td>\n",
       "      <td>510</td>\n",
       "      <td>2</td>\n",
       "      <td>1</td>\n",
       "      <td>2</td>\n",
       "      <td>1</td>\n",
       "      <td>1</td>\n",
       "      <td>1</td>\n",
       "      <td>3</td>\n",
       "      <td>153.33</td>\n",
       "    </tr>\n",
       "    <tr>\n",
       "      <th>3</th>\n",
       "      <td>4</td>\n",
       "      <td>Analog 4</td>\n",
       "      <td>150</td>\n",
       "      <td>4</td>\n",
       "      <td>1</td>\n",
       "      <td>1</td>\n",
       "      <td>0</td>\n",
       "      <td>4</td>\n",
       "      <td>1</td>\n",
       "      <td>2</td>\n",
       "      <td>276.00</td>\n",
       "    </tr>\n",
       "  </tbody>\n",
       "</table>\n",
       "</div>"
      ],
      "text/plain": [
       "   Unnamed: 0    Object  Square  Place  Material  Finish  Otd_Vstr  Transport  \\\n",
       "0           1  Analog 1     300      2         1       3         1          3   \n",
       "1           2  Analog 2     300      1         0       1         1          1   \n",
       "2           3  Analog 3     510      2         1       2         1          1   \n",
       "3           4  Analog 4     150      4         1       1         0          4   \n",
       "\n",
       "   Otopl  Nazn  ValueForSquareMetre  \n",
       "0      1     3               211.60  \n",
       "1      0     2                61.33  \n",
       "2      1     3               153.33  \n",
       "3      1     2               276.00  "
      ]
     },
     "execution_count": 306,
     "metadata": {},
     "output_type": "execute_result"
    }
   ],
   "source": [
    "data.head(4)"
   ]
  },
  {
   "cell_type": "code",
   "execution_count": 307,
   "metadata": {},
   "outputs": [
    {
     "name": "stdout",
     "output_type": "stream",
     "text": [
      "Enter feature Object\n",
      "Enter feature Square\n",
      "Enter feature Place\n",
      "Enter feature ValueForSquareMetre\n",
      "Enter feature end\n"
     ]
    }
   ],
   "source": [
    "data_fixed = transform(data)"
   ]
  },
  {
   "cell_type": "code",
   "execution_count": 308,
   "metadata": {},
   "outputs": [
    {
     "data": {
      "text/html": [
       "<div>\n",
       "<style>\n",
       "    .dataframe thead tr:only-child th {\n",
       "        text-align: right;\n",
       "    }\n",
       "\n",
       "    .dataframe thead th {\n",
       "        text-align: left;\n",
       "    }\n",
       "\n",
       "    .dataframe tbody tr th {\n",
       "        vertical-align: top;\n",
       "    }\n",
       "</style>\n",
       "<table border=\"1\" class=\"dataframe\">\n",
       "  <thead>\n",
       "    <tr style=\"text-align: right;\">\n",
       "      <th></th>\n",
       "      <th>Object</th>\n",
       "      <th>Square</th>\n",
       "      <th>Place</th>\n",
       "      <th>ValueForSquareMetre</th>\n",
       "    </tr>\n",
       "  </thead>\n",
       "  <tbody>\n",
       "    <tr>\n",
       "      <th>0</th>\n",
       "      <td>Analog 1</td>\n",
       "      <td>300</td>\n",
       "      <td>2</td>\n",
       "      <td>211.60</td>\n",
       "    </tr>\n",
       "    <tr>\n",
       "      <th>1</th>\n",
       "      <td>Analog 2</td>\n",
       "      <td>300</td>\n",
       "      <td>1</td>\n",
       "      <td>61.33</td>\n",
       "    </tr>\n",
       "    <tr>\n",
       "      <th>2</th>\n",
       "      <td>Analog 3</td>\n",
       "      <td>510</td>\n",
       "      <td>2</td>\n",
       "      <td>153.33</td>\n",
       "    </tr>\n",
       "    <tr>\n",
       "      <th>3</th>\n",
       "      <td>Analog 4</td>\n",
       "      <td>150</td>\n",
       "      <td>4</td>\n",
       "      <td>276.00</td>\n",
       "    </tr>\n",
       "    <tr>\n",
       "      <th>4</th>\n",
       "      <td>Analog 5</td>\n",
       "      <td>1000</td>\n",
       "      <td>2</td>\n",
       "      <td>184.00</td>\n",
       "    </tr>\n",
       "    <tr>\n",
       "      <th>5</th>\n",
       "      <td>Analog 6</td>\n",
       "      <td>200</td>\n",
       "      <td>2</td>\n",
       "      <td>257.60</td>\n",
       "    </tr>\n",
       "    <tr>\n",
       "      <th>6</th>\n",
       "      <td>Analog 7</td>\n",
       "      <td>200</td>\n",
       "      <td>3</td>\n",
       "      <td>276.00</td>\n",
       "    </tr>\n",
       "    <tr>\n",
       "      <th>7</th>\n",
       "      <td>Analog 8</td>\n",
       "      <td>400</td>\n",
       "      <td>2</td>\n",
       "      <td>211.60</td>\n",
       "    </tr>\n",
       "    <tr>\n",
       "      <th>8</th>\n",
       "      <td>Analog 9</td>\n",
       "      <td>260</td>\n",
       "      <td>3</td>\n",
       "      <td>123.85</td>\n",
       "    </tr>\n",
       "    <tr>\n",
       "      <th>9</th>\n",
       "      <td>Analog 10</td>\n",
       "      <td>800</td>\n",
       "      <td>1</td>\n",
       "      <td>73.60</td>\n",
       "    </tr>\n",
       "  </tbody>\n",
       "</table>\n",
       "</div>"
      ],
      "text/plain": [
       "      Object  Square  Place  ValueForSquareMetre\n",
       "0   Analog 1     300      2               211.60\n",
       "1   Analog 2     300      1                61.33\n",
       "2   Analog 3     510      2               153.33\n",
       "3   Analog 4     150      4               276.00\n",
       "4   Analog 5    1000      2               184.00\n",
       "5   Analog 6     200      2               257.60\n",
       "6   Analog 7     200      3               276.00\n",
       "7   Analog 8     400      2               211.60\n",
       "8   Analog 9     260      3               123.85\n",
       "9  Analog 10     800      1                73.60"
      ]
     },
     "execution_count": 308,
     "metadata": {},
     "output_type": "execute_result"
    }
   ],
   "source": [
    "data_fixed.head(10)"
   ]
  },
  {
   "cell_type": "markdown",
   "metadata": {},
   "source": [
    "## Посотрим на корреляция признаков между собой"
   ]
  },
  {
   "cell_type": "code",
   "execution_count": 309,
   "metadata": {},
   "outputs": [
    {
     "data": {
      "text/html": [
       "<div>\n",
       "<style>\n",
       "    .dataframe thead tr:only-child th {\n",
       "        text-align: right;\n",
       "    }\n",
       "\n",
       "    .dataframe thead th {\n",
       "        text-align: left;\n",
       "    }\n",
       "\n",
       "    .dataframe tbody tr th {\n",
       "        vertical-align: top;\n",
       "    }\n",
       "</style>\n",
       "<table border=\"1\" class=\"dataframe\">\n",
       "  <thead>\n",
       "    <tr style=\"text-align: right;\">\n",
       "      <th></th>\n",
       "      <th>Square</th>\n",
       "      <th>Place</th>\n",
       "      <th>ValueForSquareMetre</th>\n",
       "    </tr>\n",
       "  </thead>\n",
       "  <tbody>\n",
       "    <tr>\n",
       "      <th>Square</th>\n",
       "      <td>1.000000</td>\n",
       "      <td>-0.352562</td>\n",
       "      <td>-0.237734</td>\n",
       "    </tr>\n",
       "    <tr>\n",
       "      <th>Place</th>\n",
       "      <td>-0.352562</td>\n",
       "      <td>1.000000</td>\n",
       "      <td>0.551273</td>\n",
       "    </tr>\n",
       "    <tr>\n",
       "      <th>ValueForSquareMetre</th>\n",
       "      <td>-0.237734</td>\n",
       "      <td>0.551273</td>\n",
       "      <td>1.000000</td>\n",
       "    </tr>\n",
       "  </tbody>\n",
       "</table>\n",
       "</div>"
      ],
      "text/plain": [
       "                       Square     Place  ValueForSquareMetre\n",
       "Square               1.000000 -0.352562            -0.237734\n",
       "Place               -0.352562  1.000000             0.551273\n",
       "ValueForSquareMetre -0.237734  0.551273             1.000000"
      ]
     },
     "execution_count": 309,
     "metadata": {},
     "output_type": "execute_result"
    }
   ],
   "source": [
    "data_fixed.corr()"
   ]
  },
  {
   "cell_type": "markdown",
   "metadata": {},
   "source": [
    "## Создаем лист из чисел(индексация начинается с нуля)"
   ]
  },
  {
   "cell_type": "code",
   "execution_count": 298,
   "metadata": {
    "collapsed": true
   },
   "outputs": [],
   "source": [
    "#размер листа равен количеству столбцов в матрице в данными\n",
    "list = range(data.shape[0])"
   ]
  },
  {
   "cell_type": "markdown",
   "metadata": {},
   "source": [
    "## Собственно само тело функции"
   ]
  },
  {
   "cell_type": "code",
   "execution_count": 338,
   "metadata": {
    "scrolled": true
   },
   "outputs": [
    {
     "name": "stdout",
     "output_type": "stream",
     "text": [
      "       Object  Square  Place  ValueForSquareMetre\n",
      "36  Analog 37     315      2               192.76\n",
      "20  Analog 21    1000      3               184.00\n",
      "15  Analog 16     117      4               353.85\n",
      "30  Analog 31     800      1                74.75\n",
      "1    Analog 2     300      1                61.33\n",
      "19  Analog 20     300      2               153.33\n",
      "2    Analog 3     510      2               153.33\n",
      "17  Analog 18     450      1                92.00\n",
      "4    Analog 5    1000      2               184.00\n",
      "28  Analog 29     700      3               318.06\n",
      "14  Analog 15     300      3               153.33\n",
      "16  Analog 17      93      3               346.24\n",
      "38  Analog 39     800      2               174.80\n",
      "7    Analog 8     400      2               211.60\n",
      "31  Analog 32     150      3               276.00\n",
      "                             OLS Regression Results                            \n",
      "===============================================================================\n",
      "Dep. Variable:     ValueForSquareMetre   R-squared:                       0.746\n",
      "Model:                             OLS   Adj. R-squared:                  0.703\n",
      "Method:                  Least Squares   F-statistic:                     17.58\n",
      "Date:                 Mon, 05 Feb 2018   Prob (F-statistic):           0.000271\n",
      "Time:                         16:46:33   Log-Likelihood:                -78.353\n",
      "No. Observations:                   15   AIC:                             162.7\n",
      "Df Residuals:                       12   BIC:                             164.8\n",
      "Df Model:                            2                                         \n",
      "Covariance Type:             nonrobust                                         \n",
      "==============================================================================\n",
      "                 coef    std err          t      P>|t|      [0.025      0.975]\n",
      "------------------------------------------------------------------------------\n",
      "Intercept     17.0532     48.298      0.353      0.730     -88.179     122.285\n",
      "Square        -0.0349      0.045     -0.770      0.456      -0.134       0.064\n",
      "Place         86.0718     15.744      5.467      0.000      51.770     120.374\n",
      "==============================================================================\n",
      "Omnibus:                        3.053   Durbin-Watson:                   2.743\n",
      "Prob(Omnibus):                  0.217   Jarque-Bera (JB):                1.137\n",
      "Skew:                          -0.606   Prob(JB):                        0.566\n",
      "Kurtosis:                       3.594   Cond. No.                     2.19e+03\n",
      "==============================================================================\n",
      "\n",
      "Warnings:\n",
      "[1] Standard Errors assume that the covariance matrix of the errors is correctly specified.\n",
      "[2] The condition number is large, 2.19e+03. This might indicate that there are\n",
      "strong multicollinearity or other numerical problems.\n",
      "                                 OLS Regression Results                                \n",
      "=======================================================================================\n",
      "Dep. Variable:     np.log(ValueForSquareMetre)   R-squared:                       0.751\n",
      "Model:                                     OLS   Adj. R-squared:                  0.710\n",
      "Method:                          Least Squares   F-statistic:                     18.13\n",
      "Date:                         Mon, 05 Feb 2018   Prob (F-statistic):           0.000236\n",
      "Time:                                 16:46:33   Log-Likelihood:               -0.67316\n",
      "No. Observations:                           15   AIC:                             7.346\n",
      "Df Residuals:                               12   BIC:                             9.470\n",
      "Df Model:                                    2                                         \n",
      "Covariance Type:                     nonrobust                                         \n",
      "==============================================================================\n",
      "                 coef    std err          t      P>|t|      [0.025      0.975]\n",
      "------------------------------------------------------------------------------\n",
      "Intercept      4.0014      0.272     14.701      0.000       3.408       4.594\n",
      "Square     -1.772e-05      0.000     -0.069      0.946      -0.001       0.001\n",
      "Place          0.5137      0.089      5.790      0.000       0.320       0.707\n",
      "==============================================================================\n",
      "Omnibus:                        1.491   Durbin-Watson:                   1.957\n",
      "Prob(Omnibus):                  0.474   Jarque-Bera (JB):                1.187\n",
      "Skew:                          -0.526   Prob(JB):                        0.552\n",
      "Kurtosis:                       2.111   Cond. No.                     2.19e+03\n",
      "==============================================================================\n",
      "\n",
      "Warnings:\n",
      "[1] Standard Errors assume that the covariance matrix of the errors is correctly specified.\n",
      "[2] The condition number is large, 2.19e+03. This might indicate that there are\n",
      "strong multicollinearity or other numerical problems.\n"
     ]
    }
   ],
   "source": [
    "seed = rn.random()\n",
    "for i in range(100000):\n",
    "    rn.seed(seed)\n",
    "    seed += 1\n",
    "    people_number = rn.randint(15, 25)\n",
    "    combin = rn.sample(list,people_number)\n",
    "    random_dataframe_part = pd.DataFrame(data=data_fixed.ix[combin,])#датафрейм в обучении \n",
    "    m1_part = smf.ols('ValueForSquareMetre ~ Square + Place ', data=random_dataframe_part)\n",
    "    fitted_part = m1_part.fit()\n",
    "    #print(fitted_part.rsquared)#del\n",
    "    #print(fitted.params)\n",
    "    if (fitted_part.rsquared >= 0.7 and fitted_part.params['Place'] > 0 and fitted_part.params['Square'] < 0 and np.all(np.array(fitted_part.params['Intercept'] + fitted_part.params['Square']*test['Square'] + fitted_part.params['Place']*test['Place']).reshape(-1,1) < 1000) and \n",
    "        np.all(np.array(fitted_part.params['Intercept'] + fitted_part.params['Square']*test['Square'] + fitted_part.params['Place']*test['Place']).reshape(-1,1) > 0)):\n",
    "        m2_part = smf.ols('np.log(ValueForSquareMetre) ~ Square + Place', data=random_dataframe_part)\n",
    "        fitted_second_part = m2_part.fit()\n",
    "\n",
    "        if (fitted_second_part.rsquared >= 0.7 and math.exp(fitted_second_part.params['Place']) > 1 and math.exp(fitted_second_part.params['Square']) < 1 and np.all(math.exp(fitted_second_part.params['Intercept'])*  \n",
    "            math.exp(fitted_second_part.params['Square'])**test['Square']*math.exp(fitted_second_part.params['Place'])**test['Place']) < 1000 and\n",
    "            np.all(math.exp(fitted_second_part.params['Intercept'])*math.exp(fitted_second_part.params['Square'])*test['Square']**math.exp(fitted_second_part.params['Place'])**test['Place'])>0):\n",
    "            print(random_dataframe_part)\n",
    "            print(fitted_part.summary())\n",
    "            print(fitted_second_part.summary())\n",
    "            break"
   ]
  },
  {
   "cell_type": "markdown",
   "metadata": {},
   "source": [
    "## Параметры регрессионной модели + расчет для обьекта"
   ]
  },
  {
   "cell_type": "code",
   "execution_count": 351,
   "metadata": {},
   "outputs": [
    {
     "name": "stdout",
     "output_type": "stream",
     "text": [
      "0    257.986069\n",
      "1    264.836130\n",
      "2    274.988899\n",
      "3    262.648304\n",
      "4    213.911518\n",
      "5    264.210537\n",
      "6    254.749765\n",
      "7     24.980509\n",
      "dtype: float64\n"
     ]
    }
   ],
   "source": [
    "print(fitted_part.params['Intercept'] + fitted_part.params['Square']*test['Square'] + fitted_part.params['Place']*test['Place'])"
   ]
  },
  {
   "cell_type": "code",
   "execution_count": 353,
   "metadata": {},
   "outputs": [
    {
     "name": "stdout",
     "output_type": "stream",
     "text": [
      "0    253.078663\n",
      "1    253.959008\n",
      "2    255.269441\n",
      "3    253.677504\n",
      "4    247.486891\n",
      "5    253.878482\n",
      "6    252.663807\n",
      "7    140.546409\n",
      "dtype: float64\n"
     ]
    }
   ],
   "source": [
    "print(math.exp(fitted_second_part.params['Intercept'])*math.exp(fitted_second_part.params['Square'])**test['Square']*math.exp(fitted_second_part.params['Place'])**test['Place']) "
   ]
  },
  {
   "cell_type": "markdown",
   "metadata": {},
   "source": [
    "## Тест Фишера, проверяет нулевую гипотезу о том что все коэффициенты перед признаками в регрессионной модели можно положить равными нулю."
   ]
  },
  {
   "cell_type": "code",
   "execution_count": 252,
   "metadata": {},
   "outputs": [
    {
     "name": "stdout",
     "output_type": "stream",
     "text": [
      "<F test: F=array([[ 8.29226718]]), p=0.00025880274907412535, df_denom=15, df_num=8>\n"
     ]
    }
   ],
   "source": [
    "print(fitted.f_test('Square = Place = Material = Finish = Otd_Vstr = Transport = Otopl = Nazn = 0'))\n",
    "# в данном случае для модели F-статистика Фишера равна 8.2922 - модель значима"
   ]
  },
  {
   "cell_type": "code",
   "execution_count": 272,
   "metadata": {},
   "outputs": [
    {
     "name": "stdout",
     "output_type": "stream",
     "text": [
      "<F test: F=array([[ 1.36927518]]), p=0.2903856324930016, df_denom=15, df_num=5>\n"
     ]
    }
   ],
   "source": [
    "print(fitted.f_test('Place = Material = Finish = Otd_Vstr = Transport = 0'))\n",
    "#на уровне значимости 0.05 можно отвергнуть нулевую гипотезу о том, что модель статистически значима."
   ]
  }
 ],
 "metadata": {
  "anaconda-cloud": {},
  "kernelspec": {
   "display_name": "Python [conda env:py35]",
   "language": "python",
   "name": "conda-env-py35-py"
  },
  "language_info": {
   "codemirror_mode": {
    "name": "ipython",
    "version": 3
   },
   "file_extension": ".py",
   "mimetype": "text/x-python",
   "name": "python",
   "nbconvert_exporter": "python",
   "pygments_lexer": "ipython3",
   "version": "3.5.3"
  }
 },
 "nbformat": 4,
 "nbformat_minor": 1
}
